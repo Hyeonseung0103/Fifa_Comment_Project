{
 "cells": [
  {
   "cell_type": "markdown",
   "metadata": {},
   "source": [
    "# 모델링\n",
    "데이터 전처리, 정수 인코딩, 패딩의 과정을 거쳐 LSTM 모델로 학습했다. 최종적으로는 임베딩과 LSTM 층 사이에 은닉층을 하나 더 쌓은 모델이 가장 좋았고, Randomized Searh CV, Grid search CV로 하이퍼 파라미터 튜닝을 했을 때 0.8954의 정확도를 가진 모델을 만들 수 있었다. "
   ]
  },
  {
   "cell_type": "code",
   "execution_count": null,
   "metadata": {
    "colab": {
     "base_uri": "https://localhost:8080/"
    },
    "id": "6T3desy4-VDm",
    "outputId": "c6aa1165-8b4d-482f-9b50-7dcb82c329ac"
   },
   "outputs": [],
   "source": [
    "# Colab에 Mecab 설치\n",
    "!git clone https://github.com/SOMJANG/Mecab-ko-for-Google-Colab.git\n",
    "%cd Mecab-ko-for-Google-Colab\n",
    "!bash install_mecab-ko_on_colab190912.sh"
   ]
  },
  {
   "cell_type": "code",
   "execution_count": null,
   "metadata": {
    "colab": {
     "base_uri": "https://localhost:8080/"
    },
    "id": "eKPi4OYW-4Oi",
    "outputId": "259e38b7-4fc9-4888-a4a7-4fa8082ae228"
   },
   "outputs": [],
   "source": [
    "!pip install konlpy"
   ]
  },
  {
   "cell_type": "code",
   "execution_count": 1,
   "metadata": {
    "id": "U6cZ8I2b9U0r"
   },
   "outputs": [],
   "source": [
    "import pandas as pd\n",
    "import numpy as np\n",
    "import matplotlib.pyplot as plt\n",
    "import re\n",
    "import time\n",
    "import os\n",
    "import urllib.request\n",
    "from konlpy.tag import Mecab\n",
    "from tqdm import tqdm\n",
    "import tensorflow as tf\n",
    "from tensorflow.keras.preprocessing.text import Tokenizer\n",
    "from tensorflow.keras.preprocessing.sequence import pad_sequences\n",
    "from sklearn.model_selection import train_test_split\n",
    "from collections import Counter"
   ]
  },
  {
   "cell_type": "code",
   "execution_count": 3,
   "metadata": {},
   "outputs": [],
   "source": [
    "DATA_PATH = '...../fifa_comment/data/'"
   ]
  },
  {
   "cell_type": "code",
   "execution_count": 7,
   "metadata": {
    "colab": {
     "base_uri": "https://localhost:8080/",
     "height": 206
    },
    "id": "s-gYi5Fo_1gd",
    "outputId": "a797bcf8-3dbd-4cbe-84f6-46f21eef69d4"
   },
   "outputs": [],
   "source": [
    "df = pd.read_csv(f'{DATA_PATH}sentiment_scores.csv')"
   ]
  },
  {
   "cell_type": "code",
   "execution_count": null,
   "metadata": {
    "colab": {
     "base_uri": "https://localhost:8080/",
     "height": 283
    },
    "id": "1v14nk-lAEa9",
    "outputId": "fac0e891-d2da-4c34-cfbd-2216d543bfdc"
   },
   "outputs": [
    {
     "data": {
      "text/plain": [
       "<matplotlib.axes._subplots.AxesSubplot at 0x7f1b70ddac10>"
      ]
     },
     "execution_count": 25,
     "metadata": {},
     "output_type": "execute_result"
    },
    {
     "data": {
      "image/png": "[encoded data removed]",
      "text/plain": [
       "<Figure size 432x288 with 1 Axes>"
      ]
     },
     "metadata": {
      "needs_background": "light"
     },
     "output_type": "display_data"
    }
   ],
   "source": [
    "df['score'].hist()"
   ]
  },
  {
   "cell_type": "code",
   "execution_count": null,
   "metadata": {
    "colab": {
     "base_uri": "https://localhost:8080/",
     "height": 470
    },
    "id": "xiA_P7cc_xQv",
    "outputId": "59a3703a-164d-400f-ec3d-02275ffeb30d"
   },
   "outputs": [
    {
     "data": {
      "text/html": [
       "\n",
       "  <div id=\"df-55771549-68c1-4986-af6f-4aa9a44ca2de\">\n",
       "    <div class=\"colab-df-container\">\n",
       "      <div>\n",
       "<style scoped>\n",
       "    .dataframe tbody tr th:only-of-type {\n",
       "        vertical-align: middle;\n",
       "    }\n",
       "\n",
       "    .dataframe tbody tr th {\n",
       "        vertical-align: top;\n",
       "    }\n",
       "\n",
       "    .dataframe thead th {\n",
       "        text-align: right;\n",
       "    }\n",
       "</style>\n",
       "<table border=\"1\" class=\"dataframe\">\n",
       "  <thead>\n",
       "    <tr style=\"text-align: right;\">\n",
       "      <th></th>\n",
       "      <th>userId</th>\n",
       "      <th>player_name</th>\n",
       "      <th>position</th>\n",
       "      <th>comment</th>\n",
       "      <th>rating</th>\n",
       "      <th>score</th>\n",
       "      <th>label</th>\n",
       "    </tr>\n",
       "  </thead>\n",
       "  <tbody>\n",
       "    <tr>\n",
       "      <th>199876</th>\n",
       "      <td>클롭광팬</td>\n",
       "      <td>박지수</td>\n",
       "      <td>df</td>\n",
       "      <td>선수체감 자체가 엄청 가볍고 민첩함</td>\n",
       "      <td>4.00</td>\n",
       "      <td>1</td>\n",
       "      <td>1</td>\n",
       "    </tr>\n",
       "    <tr>\n",
       "      <th>199877</th>\n",
       "      <td>클롭광팬</td>\n",
       "      <td>박지수</td>\n",
       "      <td>df</td>\n",
       "      <td>주력이랑 방향전환 모두 빨라가지고 수비커버 범위도 넓게 가져갈수 있음.</td>\n",
       "      <td>4.00</td>\n",
       "      <td>0</td>\n",
       "      <td>0</td>\n",
       "    </tr>\n",
       "    <tr>\n",
       "      <th>199878</th>\n",
       "      <td>클롭광팬</td>\n",
       "      <td>박지수</td>\n",
       "      <td>df</td>\n",
       "      <td>5카 기준 2천만bp 정도로 대장급 공격수들을 스피드로 제압가능.. 우리집 센터백은...</td>\n",
       "      <td>4.00</td>\n",
       "      <td>-1</td>\n",
       "      <td>0</td>\n",
       "    </tr>\n",
       "    <tr>\n",
       "      <th>199879</th>\n",
       "      <td>레알의라장군</td>\n",
       "      <td>카르바할</td>\n",
       "      <td>df</td>\n",
       "      <td>좋기만한데....</td>\n",
       "      <td>4.04</td>\n",
       "      <td>0</td>\n",
       "      <td>0</td>\n",
       "    </tr>\n",
       "    <tr>\n",
       "      <th>199880</th>\n",
       "      <td>자기엘카</td>\n",
       "      <td>조 고메스</td>\n",
       "      <td>df</td>\n",
       "      <td>단점 헤딩 실존이랑 똑같음</td>\n",
       "      <td>3.83</td>\n",
       "      <td>0</td>\n",
       "      <td>0</td>\n",
       "    </tr>\n",
       "  </tbody>\n",
       "</table>\n",
       "</div>\n",
       "      <button class=\"colab-df-convert\" onclick=\"convertToInteractive('df-55771549-68c1-4986-af6f-4aa9a44ca2de')\"\n",
       "              title=\"Convert this dataframe to an interactive table.\"\n",
       "              style=\"display:none;\">\n",
       "        \n",
       "  <svg xmlns=\"http://www.w3.org/2000/svg\" height=\"24px\"viewBox=\"0 0 24 24\"\n",
       "       width=\"24px\">\n",
       "    <path d=\"M0 0h24v24H0V0z\" fill=\"none\"/>\n",
       "    <path d=\"M18.56 5.44l.94 2.06.94-2.06 2.06-.94-2.06-.94-.94-2.06-.94 2.06-2.06.94zm-11 1L8.5 8.5l.94-2.06 2.06-.94-2.06-.94L8.5 2.5l-.94 2.06-2.06.94zm10 10l.94 2.06.94-2.06 2.06-.94-2.06-.94-.94-2.06-.94 2.06-2.06.94z\"/><path d=\"M17.41 7.96l-1.37-1.37c-.4-.4-.92-.59-1.43-.59-.52 0-1.04.2-1.43.59L10.3 9.45l-7.72 7.72c-.78.78-.78 2.05 0 2.83L4 21.41c.39.39.9.59 1.41.59.51 0 1.02-.2 1.41-.59l7.78-7.78 2.81-2.81c.8-.78.8-2.07 0-2.86zM5.41 20L4 18.59l7.72-7.72 1.47 1.35L5.41 20z\"/>\n",
       "  </svg>\n",
       "      </button>\n",
       "      \n",
       "  <style>\n",
       "    .colab-df-container {\n",
       "      display:flex;\n",
       "      flex-wrap:wrap;\n",
       "      gap: 12px;\n",
       "    }\n",
       "\n",
       "    .colab-df-convert {\n",
       "      background-color: #E8F0FE;\n",
       "      border: none;\n",
       "      border-radius: 50%;\n",
       "      cursor: pointer;\n",
       "      display: none;\n",
       "      fill: #1967D2;\n",
       "      height: 32px;\n",
       "      padding: 0 0 0 0;\n",
       "      width: 32px;\n",
       "    }\n",
       "\n",
       "    .colab-df-convert:hover {\n",
       "      background-color: #E2EBFA;\n",
       "      box-shadow: 0px 1px 2px rgba(60, 64, 67, 0.3), 0px 1px 3px 1px rgba(60, 64, 67, 0.15);\n",
       "      fill: #174EA6;\n",
       "    }\n",
       "\n",
       "    [theme=dark] .colab-df-convert {\n",
       "      background-color: #3B4455;\n",
       "      fill: #D2E3FC;\n",
       "    }\n",
       "\n",
       "    [theme=dark] .colab-df-convert:hover {\n",
       "      background-color: #434B5C;\n",
       "      box-shadow: 0px 1px 3px 1px rgba(0, 0, 0, 0.15);\n",
       "      filter: drop-shadow(0px 1px 2px rgba(0, 0, 0, 0.3));\n",
       "      fill: #FFFFFF;\n",
       "    }\n",
       "  </style>\n",
       "\n",
       "      <script>\n",
       "        const buttonEl =\n",
       "          document.querySelector('#df-55771549-68c1-4986-af6f-4aa9a44ca2de button.colab-df-convert');\n",
       "        buttonEl.style.display =\n",
       "          google.colab.kernel.accessAllowed ? 'block' : 'none';\n",
       "\n",
       "        async function convertToInteractive(key) {\n",
       "          const element = document.querySelector('#df-55771549-68c1-4986-af6f-4aa9a44ca2de');\n",
       "          const dataTable =\n",
       "            await google.colab.kernel.invokeFunction('convertToInteractive',\n",
       "                                                     [key], {});\n",
       "          if (!dataTable) return;\n",
       "\n",
       "          const docLinkHtml = 'Like what you see? Visit the ' +\n",
       "            '<a target=\"_blank\" href=https://colab.research.google.com/notebooks/data_table.ipynb>data table notebook</a>'\n",
       "            + ' to learn more about interactive tables.';\n",
       "          element.innerHTML = '';\n",
       "          dataTable['output_type'] = 'display_data';\n",
       "          await google.colab.output.renderOutput(dataTable, element);\n",
       "          const docLink = document.createElement('div');\n",
       "          docLink.innerHTML = docLinkHtml;\n",
       "          element.appendChild(docLink);\n",
       "        }\n",
       "      </script>\n",
       "    </div>\n",
       "  </div>\n",
       "  "
      ],
      "text/plain": [
       "        userId player_name position  \\\n",
       "199876    클롭광팬         박지수       df   \n",
       "199877    클롭광팬         박지수       df   \n",
       "199878    클롭광팬         박지수       df   \n",
       "199879  레알의라장군        카르바할       df   \n",
       "199880    자기엘카       조 고메스       df   \n",
       "\n",
       "                                                  comment  rating  score  \\\n",
       "199876                                선수체감 자체가 엄청 가볍고 민첩함    4.00      1   \n",
       "199877            주력이랑 방향전환 모두 빨라가지고 수비커버 범위도 넓게 가져갈수 있음.    4.00      0   \n",
       "199878  5카 기준 2천만bp 정도로 대장급 공격수들을 스피드로 제압가능.. 우리집 센터백은...    4.00     -1   \n",
       "199879                                          좋기만한데....    4.04      0   \n",
       "199880                                     단점 헤딩 실존이랑 똑같음    3.83      0   \n",
       "\n",
       "        label  \n",
       "199876      1  \n",
       "199877      0  \n",
       "199878      0  \n",
       "199879      0  \n",
       "199880      0  "
      ]
     },
     "metadata": {},
     "output_type": "display_data"
    },
    {
     "data": {
      "text/plain": [
       "<matplotlib.axes._subplots.AxesSubplot at 0x7f1b70d5a890>"
      ]
     },
     "execution_count": 26,
     "metadata": {},
     "output_type": "execute_result"
    },
    {
     "data": {
      "image/png": "[encoded data removed]",
      "text/plain": [
       "<Figure size 432x288 with 1 Axes>"
      ]
     },
     "metadata": {
      "needs_background": "light"
     },
     "output_type": "display_data"
    }
   ],
   "source": [
    "#0보다 크면 긍정(1), 같거나 작으면 부정(0)\n",
    "df.loc[df.score > 0, 'label'] = 1\n",
    "df.loc[df.score <= 0, 'label'] = 0\n",
    "df.label = df.label.astype(int)\n",
    "display(df.tail())\n",
    "df.label.value_counts().plot(kind = 'bar')"
   ]
  },
  {
   "cell_type": "code",
   "execution_count": null,
   "metadata": {
    "colab": {
     "base_uri": "https://localhost:8080/",
     "height": 206
    },
    "id": "assiTEIqB0ab",
    "outputId": "800a32b2-fce2-422e-f29c-3e8eeaa3794a"
   },
   "outputs": [
    {
     "data": {
      "text/html": [
       "\n",
       "  <div id=\"df-089c6c76-73a0-4085-a8ae-024694ffab4a\">\n",
       "    <div class=\"colab-df-container\">\n",
       "      <div>\n",
       "<style scoped>\n",
       "    .dataframe tbody tr th:only-of-type {\n",
       "        vertical-align: middle;\n",
       "    }\n",
       "\n",
       "    .dataframe tbody tr th {\n",
       "        vertical-align: top;\n",
       "    }\n",
       "\n",
       "    .dataframe thead th {\n",
       "        text-align: right;\n",
       "    }\n",
       "</style>\n",
       "<table border=\"1\" class=\"dataframe\">\n",
       "  <thead>\n",
       "    <tr style=\"text-align: right;\">\n",
       "      <th></th>\n",
       "      <th>comment</th>\n",
       "      <th>label</th>\n",
       "    </tr>\n",
       "  </thead>\n",
       "  <tbody>\n",
       "    <tr>\n",
       "      <th>199876</th>\n",
       "      <td>선수체감 자체가 엄청 가볍고 민첩함</td>\n",
       "      <td>1</td>\n",
       "    </tr>\n",
       "    <tr>\n",
       "      <th>199877</th>\n",
       "      <td>주력이랑 방향전환 모두 빨라가지고 수비커버 범위도 넓게 가져갈수 있음.</td>\n",
       "      <td>0</td>\n",
       "    </tr>\n",
       "    <tr>\n",
       "      <th>199878</th>\n",
       "      <td>5카 기준 2천만bp 정도로 대장급 공격수들을 스피드로 제압가능.. 우리집 센터백은...</td>\n",
       "      <td>0</td>\n",
       "    </tr>\n",
       "    <tr>\n",
       "      <th>199879</th>\n",
       "      <td>좋기만한데....</td>\n",
       "      <td>0</td>\n",
       "    </tr>\n",
       "    <tr>\n",
       "      <th>199880</th>\n",
       "      <td>단점 헤딩 실존이랑 똑같음</td>\n",
       "      <td>0</td>\n",
       "    </tr>\n",
       "  </tbody>\n",
       "</table>\n",
       "</div>\n",
       "      <button class=\"colab-df-convert\" onclick=\"convertToInteractive('df-089c6c76-73a0-4085-a8ae-024694ffab4a')\"\n",
       "              title=\"Convert this dataframe to an interactive table.\"\n",
       "              style=\"display:none;\">\n",
       "        \n",
       "  <svg xmlns=\"http://www.w3.org/2000/svg\" height=\"24px\"viewBox=\"0 0 24 24\"\n",
       "       width=\"24px\">\n",
       "    <path d=\"M0 0h24v24H0V0z\" fill=\"none\"/>\n",
       "    <path d=\"M18.56 5.44l.94 2.06.94-2.06 2.06-.94-2.06-.94-.94-2.06-.94 2.06-2.06.94zm-11 1L8.5 8.5l.94-2.06 2.06-.94-2.06-.94L8.5 2.5l-.94 2.06-2.06.94zm10 10l.94 2.06.94-2.06 2.06-.94-2.06-.94-.94-2.06-.94 2.06-2.06.94z\"/><path d=\"M17.41 7.96l-1.37-1.37c-.4-.4-.92-.59-1.43-.59-.52 0-1.04.2-1.43.59L10.3 9.45l-7.72 7.72c-.78.78-.78 2.05 0 2.83L4 21.41c.39.39.9.59 1.41.59.51 0 1.02-.2 1.41-.59l7.78-7.78 2.81-2.81c.8-.78.8-2.07 0-2.86zM5.41 20L4 18.59l7.72-7.72 1.47 1.35L5.41 20z\"/>\n",
       "  </svg>\n",
       "      </button>\n",
       "      \n",
       "  <style>\n",
       "    .colab-df-container {\n",
       "      display:flex;\n",
       "      flex-wrap:wrap;\n",
       "      gap: 12px;\n",
       "    }\n",
       "\n",
       "    .colab-df-convert {\n",
       "      background-color: #E8F0FE;\n",
       "      border: none;\n",
       "      border-radius: 50%;\n",
       "      cursor: pointer;\n",
       "      display: none;\n",
       "      fill: #1967D2;\n",
       "      height: 32px;\n",
       "      padding: 0 0 0 0;\n",
       "      width: 32px;\n",
       "    }\n",
       "\n",
       "    .colab-df-convert:hover {\n",
       "      background-color: #E2EBFA;\n",
       "      box-shadow: 0px 1px 2px rgba(60, 64, 67, 0.3), 0px 1px 3px 1px rgba(60, 64, 67, 0.15);\n",
       "      fill: #174EA6;\n",
       "    }\n",
       "\n",
       "    [theme=dark] .colab-df-convert {\n",
       "      background-color: #3B4455;\n",
       "      fill: #D2E3FC;\n",
       "    }\n",
       "\n",
       "    [theme=dark] .colab-df-convert:hover {\n",
       "      background-color: #434B5C;\n",
       "      box-shadow: 0px 1px 3px 1px rgba(0, 0, 0, 0.15);\n",
       "      filter: drop-shadow(0px 1px 2px rgba(0, 0, 0, 0.3));\n",
       "      fill: #FFFFFF;\n",
       "    }\n",
       "  </style>\n",
       "\n",
       "      <script>\n",
       "        const buttonEl =\n",
       "          document.querySelector('#df-089c6c76-73a0-4085-a8ae-024694ffab4a button.colab-df-convert');\n",
       "        buttonEl.style.display =\n",
       "          google.colab.kernel.accessAllowed ? 'block' : 'none';\n",
       "\n",
       "        async function convertToInteractive(key) {\n",
       "          const element = document.querySelector('#df-089c6c76-73a0-4085-a8ae-024694ffab4a');\n",
       "          const dataTable =\n",
       "            await google.colab.kernel.invokeFunction('convertToInteractive',\n",
       "                                                     [key], {});\n",
       "          if (!dataTable) return;\n",
       "\n",
       "          const docLinkHtml = 'Like what you see? Visit the ' +\n",
       "            '<a target=\"_blank\" href=https://colab.research.google.com/notebooks/data_table.ipynb>data table notebook</a>'\n",
       "            + ' to learn more about interactive tables.';\n",
       "          element.innerHTML = '';\n",
       "          dataTable['output_type'] = 'display_data';\n",
       "          await google.colab.output.renderOutput(dataTable, element);\n",
       "          const docLink = document.createElement('div');\n",
       "          docLink.innerHTML = docLinkHtml;\n",
       "          element.appendChild(docLink);\n",
       "        }\n",
       "      </script>\n",
       "    </div>\n",
       "  </div>\n",
       "  "
      ],
      "text/plain": [
       "                                                  comment  label\n",
       "199876                                선수체감 자체가 엄청 가볍고 민첩함      1\n",
       "199877            주력이랑 방향전환 모두 빨라가지고 수비커버 범위도 넓게 가져갈수 있음.      0\n",
       "199878  5카 기준 2천만bp 정도로 대장급 공격수들을 스피드로 제압가능.. 우리집 센터백은...      0\n",
       "199879                                          좋기만한데....      0\n",
       "199880                                     단점 헤딩 실존이랑 똑같음      0"
      ]
     },
     "execution_count": 27,
     "metadata": {},
     "output_type": "execute_result"
    }
   ],
   "source": [
    "#감성분석에 필요한 comment와 label만 남겨두기\n",
    "df = df[['comment', 'label']]\n",
    "df.tail()"
   ]
  },
  {
   "cell_type": "code",
   "execution_count": null,
   "metadata": {
    "colab": {
     "base_uri": "https://localhost:8080/"
    },
    "id": "R6hSxVSQ_xTQ",
    "outputId": "cd5b1a46-10f3-4140-d366-74e2bef74cbb"
   },
   "outputs": [
    {
     "name": "stdout",
     "output_type": "stream",
     "text": [
      "5316\n",
      "0\n"
     ]
    }
   ],
   "source": [
    "print(df.duplicated().sum())\n",
    "print(df.isnull().sum().sum())"
   ]
  },
  {
   "cell_type": "code",
   "execution_count": null,
   "metadata": {
    "colab": {
     "base_uri": "https://localhost:8080/"
    },
    "id": "0SgSE1qO_xVo",
    "outputId": "ce2065fa-5fd3-4bbc-e6d6-970840c044be"
   },
   "outputs": [
    {
     "name": "stdout",
     "output_type": "stream",
     "text": [
      "0\n"
     ]
    },
    {
     "data": {
      "text/plain": [
       "(194565, 2)"
      ]
     },
     "execution_count": 30,
     "metadata": {},
     "output_type": "execute_result"
    }
   ],
   "source": [
    "#중복제거\n",
    "df.drop_duplicates(inplace = True)\n",
    "print(df.duplicated().sum())\n",
    "df.shape"
   ]
  },
  {
   "cell_type": "code",
   "execution_count": null,
   "metadata": {
    "colab": {
     "base_uri": "https://localhost:8080/",
     "height": 432
    },
    "id": "2IhMBHNSCWQP",
    "outputId": "7e6d4c43-7138-4044-91d1-96578853b3b3"
   },
   "outputs": [
    {
     "data": {
      "text/html": [
       "\n",
       "  <div id=\"df-4a57e8ca-4cda-46a7-b76e-fa56c832d6dc\">\n",
       "    <div class=\"colab-df-container\">\n",
       "      <div>\n",
       "<style scoped>\n",
       "    .dataframe tbody tr th:only-of-type {\n",
       "        vertical-align: middle;\n",
       "    }\n",
       "\n",
       "    .dataframe tbody tr th {\n",
       "        vertical-align: top;\n",
       "    }\n",
       "\n",
       "    .dataframe thead th {\n",
       "        text-align: right;\n",
       "    }\n",
       "</style>\n",
       "<table border=\"1\" class=\"dataframe\">\n",
       "  <thead>\n",
       "    <tr style=\"text-align: right;\">\n",
       "      <th></th>\n",
       "      <th>comment</th>\n",
       "      <th>label</th>\n",
       "    </tr>\n",
       "  </thead>\n",
       "  <tbody>\n",
       "    <tr>\n",
       "      <th>193578</th>\n",
       "      <td>진첸코 확률상 기준으로 1카사다가 5카까지 강화시에 드는 금액 약 9천.그냥 사라....</td>\n",
       "      <td>0</td>\n",
       "    </tr>\n",
       "    <tr>\n",
       "      <th>69987</th>\n",
       "      <td>22토티보다 급여 1낮고 크게 차이 못느껴서 21토츠 쓰는중 가격이 말햐준다</td>\n",
       "      <td>0</td>\n",
       "    </tr>\n",
       "    <tr>\n",
       "      <th>185831</th>\n",
       "      <td>모름 ㅋㅋ 근데 하루종일 빨간불이라알파 안받아도 언제든 팔려서 파는사람은 안급함</td>\n",
       "      <td>0</td>\n",
       "    </tr>\n",
       "    <tr>\n",
       "      <th>3873</th>\n",
       "      <td>5글읽음? 써봤다잖아 일단 안써봤다라고 시작하는 븅들은 뭐냐 ㅋㅋ 겜을 허구헌날 해...</td>\n",
       "      <td>0</td>\n",
       "    </tr>\n",
       "    <tr>\n",
       "      <th>185605</th>\n",
       "      <td>6카 상한에 올렸슴니다 팔아주십쇼 ㅠㅠ</td>\n",
       "      <td>0</td>\n",
       "    </tr>\n",
       "  </tbody>\n",
       "</table>\n",
       "</div>\n",
       "      <button class=\"colab-df-convert\" onclick=\"convertToInteractive('df-4a57e8ca-4cda-46a7-b76e-fa56c832d6dc')\"\n",
       "              title=\"Convert this dataframe to an interactive table.\"\n",
       "              style=\"display:none;\">\n",
       "        \n",
       "  <svg xmlns=\"http://www.w3.org/2000/svg\" height=\"24px\"viewBox=\"0 0 24 24\"\n",
       "       width=\"24px\">\n",
       "    <path d=\"M0 0h24v24H0V0z\" fill=\"none\"/>\n",
       "    <path d=\"M18.56 5.44l.94 2.06.94-2.06 2.06-.94-2.06-.94-.94-2.06-.94 2.06-2.06.94zm-11 1L8.5 8.5l.94-2.06 2.06-.94-2.06-.94L8.5 2.5l-.94 2.06-2.06.94zm10 10l.94 2.06.94-2.06 2.06-.94-2.06-.94-.94-2.06-.94 2.06-2.06.94z\"/><path d=\"M17.41 7.96l-1.37-1.37c-.4-.4-.92-.59-1.43-.59-.52 0-1.04.2-1.43.59L10.3 9.45l-7.72 7.72c-.78.78-.78 2.05 0 2.83L4 21.41c.39.39.9.59 1.41.59.51 0 1.02-.2 1.41-.59l7.78-7.78 2.81-2.81c.8-.78.8-2.07 0-2.86zM5.41 20L4 18.59l7.72-7.72 1.47 1.35L5.41 20z\"/>\n",
       "  </svg>\n",
       "      </button>\n",
       "      \n",
       "  <style>\n",
       "    .colab-df-container {\n",
       "      display:flex;\n",
       "      flex-wrap:wrap;\n",
       "      gap: 12px;\n",
       "    }\n",
       "\n",
       "    .colab-df-convert {\n",
       "      background-color: #E8F0FE;\n",
       "      border: none;\n",
       "      border-radius: 50%;\n",
       "      cursor: pointer;\n",
       "      display: none;\n",
       "      fill: #1967D2;\n",
       "      height: 32px;\n",
       "      padding: 0 0 0 0;\n",
       "      width: 32px;\n",
       "    }\n",
       "\n",
       "    .colab-df-convert:hover {\n",
       "      background-color: #E2EBFA;\n",
       "      box-shadow: 0px 1px 2px rgba(60, 64, 67, 0.3), 0px 1px 3px 1px rgba(60, 64, 67, 0.15);\n",
       "      fill: #174EA6;\n",
       "    }\n",
       "\n",
       "    [theme=dark] .colab-df-convert {\n",
       "      background-color: #3B4455;\n",
       "      fill: #D2E3FC;\n",
       "    }\n",
       "\n",
       "    [theme=dark] .colab-df-convert:hover {\n",
       "      background-color: #434B5C;\n",
       "      box-shadow: 0px 1px 3px 1px rgba(0, 0, 0, 0.15);\n",
       "      filter: drop-shadow(0px 1px 2px rgba(0, 0, 0, 0.3));\n",
       "      fill: #FFFFFF;\n",
       "    }\n",
       "  </style>\n",
       "\n",
       "      <script>\n",
       "        const buttonEl =\n",
       "          document.querySelector('#df-4a57e8ca-4cda-46a7-b76e-fa56c832d6dc button.colab-df-convert');\n",
       "        buttonEl.style.display =\n",
       "          google.colab.kernel.accessAllowed ? 'block' : 'none';\n",
       "\n",
       "        async function convertToInteractive(key) {\n",
       "          const element = document.querySelector('#df-4a57e8ca-4cda-46a7-b76e-fa56c832d6dc');\n",
       "          const dataTable =\n",
       "            await google.colab.kernel.invokeFunction('convertToInteractive',\n",
       "                                                     [key], {});\n",
       "          if (!dataTable) return;\n",
       "\n",
       "          const docLinkHtml = 'Like what you see? Visit the ' +\n",
       "            '<a target=\"_blank\" href=https://colab.research.google.com/notebooks/data_table.ipynb>data table notebook</a>'\n",
       "            + ' to learn more about interactive tables.';\n",
       "          element.innerHTML = '';\n",
       "          dataTable['output_type'] = 'display_data';\n",
       "          await google.colab.output.renderOutput(dataTable, element);\n",
       "          const docLink = document.createElement('div');\n",
       "          docLink.innerHTML = docLinkHtml;\n",
       "          element.appendChild(docLink);\n",
       "        }\n",
       "      </script>\n",
       "    </div>\n",
       "  </div>\n",
       "  "
      ],
      "text/plain": [
       "                                                  comment  label\n",
       "193578  진첸코 확률상 기준으로 1카사다가 5카까지 강화시에 드는 금액 약 9천.그냥 사라....      0\n",
       "69987          22토티보다 급여 1낮고 크게 차이 못느껴서 21토츠 쓰는중 가격이 말햐준다      0\n",
       "185831       모름 ㅋㅋ 근데 하루종일 빨간불이라알파 안받아도 언제든 팔려서 파는사람은 안급함      0\n",
       "3873    5글읽음? 써봤다잖아 일단 안써봤다라고 시작하는 븅들은 뭐냐 ㅋㅋ 겜을 허구헌날 해...      0\n",
       "185605                              6카 상한에 올렸슴니다 팔아주십쇼 ㅠㅠ      0"
      ]
     },
     "metadata": {},
     "output_type": "display_data"
    },
    {
     "name": "stdout",
     "output_type": "stream",
     "text": [
      "(155652, 2)\n"
     ]
    },
    {
     "data": {
      "text/html": [
       "\n",
       "  <div id=\"df-f1a041e8-e473-4faf-b7e3-dfb93b69b5ab\">\n",
       "    <div class=\"colab-df-container\">\n",
       "      <div>\n",
       "<style scoped>\n",
       "    .dataframe tbody tr th:only-of-type {\n",
       "        vertical-align: middle;\n",
       "    }\n",
       "\n",
       "    .dataframe tbody tr th {\n",
       "        vertical-align: top;\n",
       "    }\n",
       "\n",
       "    .dataframe thead th {\n",
       "        text-align: right;\n",
       "    }\n",
       "</style>\n",
       "<table border=\"1\" class=\"dataframe\">\n",
       "  <thead>\n",
       "    <tr style=\"text-align: right;\">\n",
       "      <th></th>\n",
       "      <th>comment</th>\n",
       "      <th>label</th>\n",
       "    </tr>\n",
       "  </thead>\n",
       "  <tbody>\n",
       "    <tr>\n",
       "      <th>31003</th>\n",
       "      <td>저능아새낀가 ㅋㅋㅋ똑같은 세글자를 못읽는척하고있네고아새낀가 기본적인걸 못배웠어</td>\n",
       "      <td>0</td>\n",
       "    </tr>\n",
       "    <tr>\n",
       "      <th>70000</th>\n",
       "      <td>윙에서 조금 한계 느껴서 원톱 뒀는데 속이 다 시원함 음바페도 울고갈 순간침투 약발...</td>\n",
       "      <td>0</td>\n",
       "    </tr>\n",
       "    <tr>\n",
       "      <th>177840</th>\n",
       "      <td>금카좀 사자~! 몇번을 6에서 넘어지니 ㅠ</td>\n",
       "      <td>0</td>\n",
       "    </tr>\n",
       "    <tr>\n",
       "      <th>3298</th>\n",
       "      <td>나만그런줄알았는대 ;;;</td>\n",
       "      <td>0</td>\n",
       "    </tr>\n",
       "    <tr>\n",
       "      <th>103541</th>\n",
       "      <td>속가가 너무느려서그런거아닐까요?</td>\n",
       "      <td>0</td>\n",
       "    </tr>\n",
       "  </tbody>\n",
       "</table>\n",
       "</div>\n",
       "      <button class=\"colab-df-convert\" onclick=\"convertToInteractive('df-f1a041e8-e473-4faf-b7e3-dfb93b69b5ab')\"\n",
       "              title=\"Convert this dataframe to an interactive table.\"\n",
       "              style=\"display:none;\">\n",
       "        \n",
       "  <svg xmlns=\"http://www.w3.org/2000/svg\" height=\"24px\"viewBox=\"0 0 24 24\"\n",
       "       width=\"24px\">\n",
       "    <path d=\"M0 0h24v24H0V0z\" fill=\"none\"/>\n",
       "    <path d=\"M18.56 5.44l.94 2.06.94-2.06 2.06-.94-2.06-.94-.94-2.06-.94 2.06-2.06.94zm-11 1L8.5 8.5l.94-2.06 2.06-.94-2.06-.94L8.5 2.5l-.94 2.06-2.06.94zm10 10l.94 2.06.94-2.06 2.06-.94-2.06-.94-.94-2.06-.94 2.06-2.06.94z\"/><path d=\"M17.41 7.96l-1.37-1.37c-.4-.4-.92-.59-1.43-.59-.52 0-1.04.2-1.43.59L10.3 9.45l-7.72 7.72c-.78.78-.78 2.05 0 2.83L4 21.41c.39.39.9.59 1.41.59.51 0 1.02-.2 1.41-.59l7.78-7.78 2.81-2.81c.8-.78.8-2.07 0-2.86zM5.41 20L4 18.59l7.72-7.72 1.47 1.35L5.41 20z\"/>\n",
       "  </svg>\n",
       "      </button>\n",
       "      \n",
       "  <style>\n",
       "    .colab-df-container {\n",
       "      display:flex;\n",
       "      flex-wrap:wrap;\n",
       "      gap: 12px;\n",
       "    }\n",
       "\n",
       "    .colab-df-convert {\n",
       "      background-color: #E8F0FE;\n",
       "      border: none;\n",
       "      border-radius: 50%;\n",
       "      cursor: pointer;\n",
       "      display: none;\n",
       "      fill: #1967D2;\n",
       "      height: 32px;\n",
       "      padding: 0 0 0 0;\n",
       "      width: 32px;\n",
       "    }\n",
       "\n",
       "    .colab-df-convert:hover {\n",
       "      background-color: #E2EBFA;\n",
       "      box-shadow: 0px 1px 2px rgba(60, 64, 67, 0.3), 0px 1px 3px 1px rgba(60, 64, 67, 0.15);\n",
       "      fill: #174EA6;\n",
       "    }\n",
       "\n",
       "    [theme=dark] .colab-df-convert {\n",
       "      background-color: #3B4455;\n",
       "      fill: #D2E3FC;\n",
       "    }\n",
       "\n",
       "    [theme=dark] .colab-df-convert:hover {\n",
       "      background-color: #434B5C;\n",
       "      box-shadow: 0px 1px 3px 1px rgba(0, 0, 0, 0.15);\n",
       "      filter: drop-shadow(0px 1px 2px rgba(0, 0, 0, 0.3));\n",
       "      fill: #FFFFFF;\n",
       "    }\n",
       "  </style>\n",
       "\n",
       "      <script>\n",
       "        const buttonEl =\n",
       "          document.querySelector('#df-f1a041e8-e473-4faf-b7e3-dfb93b69b5ab button.colab-df-convert');\n",
       "        buttonEl.style.display =\n",
       "          google.colab.kernel.accessAllowed ? 'block' : 'none';\n",
       "\n",
       "        async function convertToInteractive(key) {\n",
       "          const element = document.querySelector('#df-f1a041e8-e473-4faf-b7e3-dfb93b69b5ab');\n",
       "          const dataTable =\n",
       "            await google.colab.kernel.invokeFunction('convertToInteractive',\n",
       "                                                     [key], {});\n",
       "          if (!dataTable) return;\n",
       "\n",
       "          const docLinkHtml = 'Like what you see? Visit the ' +\n",
       "            '<a target=\"_blank\" href=https://colab.research.google.com/notebooks/data_table.ipynb>data table notebook</a>'\n",
       "            + ' to learn more about interactive tables.';\n",
       "          element.innerHTML = '';\n",
       "          dataTable['output_type'] = 'display_data';\n",
       "          await google.colab.output.renderOutput(dataTable, element);\n",
       "          const docLink = document.createElement('div');\n",
       "          docLink.innerHTML = docLinkHtml;\n",
       "          element.appendChild(docLink);\n",
       "        }\n",
       "      </script>\n",
       "    </div>\n",
       "  </div>\n",
       "  "
      ],
      "text/plain": [
       "                                                  comment  label\n",
       "31003         저능아새낀가 ㅋㅋㅋ똑같은 세글자를 못읽는척하고있네고아새낀가 기본적인걸 못배웠어      0\n",
       "70000   윙에서 조금 한계 느껴서 원톱 뒀는데 속이 다 시원함 음바페도 울고갈 순간침투 약발...      0\n",
       "177840                            금카좀 사자~! 몇번을 6에서 넘어지니 ㅠ      0\n",
       "3298                                        나만그런줄알았는대 ;;;      0\n",
       "103541                                  속가가 너무느려서그런거아닐까요?      0"
      ]
     },
     "metadata": {},
     "output_type": "display_data"
    },
    {
     "name": "stdout",
     "output_type": "stream",
     "text": [
      "(38913, 2)\n"
     ]
    }
   ],
   "source": [
    "X_train, X_test = train_test_split(df, test_size = 0.2, \n",
    "                                    random_state = 42, stratify = df['label'])\n",
    "display(X_train.tail())\n",
    "print(X_train.shape)\n",
    "display(X_test.tail())\n",
    "print(X_test.shape)"
   ]
  },
  {
   "cell_type": "code",
   "execution_count": null,
   "metadata": {
    "colab": {
     "base_uri": "https://localhost:8080/",
     "height": 243
    },
    "id": "0OyyXY5XDM1n",
    "outputId": "eeb2784f-3fc2-4442-ddad-4e99a459ac6b"
   },
   "outputs": [
    {
     "name": "stderr",
     "output_type": "stream",
     "text": [
      "/usr/local/lib/python3.7/dist-packages/ipykernel_launcher.py:2: FutureWarning: The default value of regex will change from True to False in a future version.\n",
      "  \n"
     ]
    },
    {
     "data": {
      "text/html": [
       "\n",
       "  <div id=\"df-1ff4f181-6b5a-4472-88b4-dbc61c418042\">\n",
       "    <div class=\"colab-df-container\">\n",
       "      <div>\n",
       "<style scoped>\n",
       "    .dataframe tbody tr th:only-of-type {\n",
       "        vertical-align: middle;\n",
       "    }\n",
       "\n",
       "    .dataframe tbody tr th {\n",
       "        vertical-align: top;\n",
       "    }\n",
       "\n",
       "    .dataframe thead th {\n",
       "        text-align: right;\n",
       "    }\n",
       "</style>\n",
       "<table border=\"1\" class=\"dataframe\">\n",
       "  <thead>\n",
       "    <tr style=\"text-align: right;\">\n",
       "      <th></th>\n",
       "      <th>comment</th>\n",
       "      <th>label</th>\n",
       "    </tr>\n",
       "  </thead>\n",
       "  <tbody>\n",
       "    <tr>\n",
       "      <th>181933</th>\n",
       "      <td>맨시티 구단에 고급여 풀백으로 쓸라고 은카만 샀는데 걍 바로 LAM RAM번갈아 가...</td>\n",
       "      <td>0</td>\n",
       "    </tr>\n",
       "    <tr>\n",
       "      <th>180650</th>\n",
       "      <td>부캐뮌헨에3카사용중좋긴함 1티어는 너무보유자욕심인것같고솔직히 15티어가적당 블랑보다...</td>\n",
       "      <td>0</td>\n",
       "    </tr>\n",
       "    <tr>\n",
       "      <th>56712</th>\n",
       "      <td>에투나 조징웨아 같은 애들 나와서 얘 좀 조져줬으면</td>\n",
       "      <td>0</td>\n",
       "    </tr>\n",
       "    <tr>\n",
       "      <th>120518</th>\n",
       "      <td>판매완료하한 거니까 금세 팔리네걱정했는데 ㅎㅎ</td>\n",
       "      <td>0</td>\n",
       "    </tr>\n",
       "    <tr>\n",
       "      <th>128863</th>\n",
       "      <td>4카 쓰는데 솔직히 티티 비에이라 5카랑 수비력은 큰 차이 못느끼겠음 오히려 밀어내...</td>\n",
       "      <td>1</td>\n",
       "    </tr>\n",
       "  </tbody>\n",
       "</table>\n",
       "</div>\n",
       "      <button class=\"colab-df-convert\" onclick=\"convertToInteractive('df-1ff4f181-6b5a-4472-88b4-dbc61c418042')\"\n",
       "              title=\"Convert this dataframe to an interactive table.\"\n",
       "              style=\"display:none;\">\n",
       "        \n",
       "  <svg xmlns=\"http://www.w3.org/2000/svg\" height=\"24px\"viewBox=\"0 0 24 24\"\n",
       "       width=\"24px\">\n",
       "    <path d=\"M0 0h24v24H0V0z\" fill=\"none\"/>\n",
       "    <path d=\"M18.56 5.44l.94 2.06.94-2.06 2.06-.94-2.06-.94-.94-2.06-.94 2.06-2.06.94zm-11 1L8.5 8.5l.94-2.06 2.06-.94-2.06-.94L8.5 2.5l-.94 2.06-2.06.94zm10 10l.94 2.06.94-2.06 2.06-.94-2.06-.94-.94-2.06-.94 2.06-2.06.94z\"/><path d=\"M17.41 7.96l-1.37-1.37c-.4-.4-.92-.59-1.43-.59-.52 0-1.04.2-1.43.59L10.3 9.45l-7.72 7.72c-.78.78-.78 2.05 0 2.83L4 21.41c.39.39.9.59 1.41.59.51 0 1.02-.2 1.41-.59l7.78-7.78 2.81-2.81c.8-.78.8-2.07 0-2.86zM5.41 20L4 18.59l7.72-7.72 1.47 1.35L5.41 20z\"/>\n",
       "  </svg>\n",
       "      </button>\n",
       "      \n",
       "  <style>\n",
       "    .colab-df-container {\n",
       "      display:flex;\n",
       "      flex-wrap:wrap;\n",
       "      gap: 12px;\n",
       "    }\n",
       "\n",
       "    .colab-df-convert {\n",
       "      background-color: #E8F0FE;\n",
       "      border: none;\n",
       "      border-radius: 50%;\n",
       "      cursor: pointer;\n",
       "      display: none;\n",
       "      fill: #1967D2;\n",
       "      height: 32px;\n",
       "      padding: 0 0 0 0;\n",
       "      width: 32px;\n",
       "    }\n",
       "\n",
       "    .colab-df-convert:hover {\n",
       "      background-color: #E2EBFA;\n",
       "      box-shadow: 0px 1px 2px rgba(60, 64, 67, 0.3), 0px 1px 3px 1px rgba(60, 64, 67, 0.15);\n",
       "      fill: #174EA6;\n",
       "    }\n",
       "\n",
       "    [theme=dark] .colab-df-convert {\n",
       "      background-color: #3B4455;\n",
       "      fill: #D2E3FC;\n",
       "    }\n",
       "\n",
       "    [theme=dark] .colab-df-convert:hover {\n",
       "      background-color: #434B5C;\n",
       "      box-shadow: 0px 1px 3px 1px rgba(0, 0, 0, 0.15);\n",
       "      filter: drop-shadow(0px 1px 2px rgba(0, 0, 0, 0.3));\n",
       "      fill: #FFFFFF;\n",
       "    }\n",
       "  </style>\n",
       "\n",
       "      <script>\n",
       "        const buttonEl =\n",
       "          document.querySelector('#df-1ff4f181-6b5a-4472-88b4-dbc61c418042 button.colab-df-convert');\n",
       "        buttonEl.style.display =\n",
       "          google.colab.kernel.accessAllowed ? 'block' : 'none';\n",
       "\n",
       "        async function convertToInteractive(key) {\n",
       "          const element = document.querySelector('#df-1ff4f181-6b5a-4472-88b4-dbc61c418042');\n",
       "          const dataTable =\n",
       "            await google.colab.kernel.invokeFunction('convertToInteractive',\n",
       "                                                     [key], {});\n",
       "          if (!dataTable) return;\n",
       "\n",
       "          const docLinkHtml = 'Like what you see? Visit the ' +\n",
       "            '<a target=\"_blank\" href=https://colab.research.google.com/notebooks/data_table.ipynb>data table notebook</a>'\n",
       "            + ' to learn more about interactive tables.';\n",
       "          element.innerHTML = '';\n",
       "          dataTable['output_type'] = 'display_data';\n",
       "          await google.colab.output.renderOutput(dataTable, element);\n",
       "          const docLink = document.createElement('div');\n",
       "          docLink.innerHTML = docLinkHtml;\n",
       "          element.appendChild(docLink);\n",
       "        }\n",
       "      </script>\n",
       "    </div>\n",
       "  </div>\n",
       "  "
      ],
      "text/plain": [
       "                                                  comment  label\n",
       "181933  맨시티 구단에 고급여 풀백으로 쓸라고 은카만 샀는데 걍 바로 LAM RAM번갈아 가...      0\n",
       "180650  부캐뮌헨에3카사용중좋긴함 1티어는 너무보유자욕심인것같고솔직히 15티어가적당 블랑보다...      0\n",
       "56712                        에투나 조징웨아 같은 애들 나와서 얘 좀 조져줬으면      0\n",
       "120518                          판매완료하한 거니까 금세 팔리네걱정했는데 ㅎㅎ      0\n",
       "128863  4카 쓰는데 솔직히 티티 비에이라 5카랑 수비력은 큰 차이 못느끼겠음 오히려 밀어내...      1"
      ]
     },
     "execution_count": 248,
     "metadata": {},
     "output_type": "execute_result"
    }
   ],
   "source": [
    "#숫자, 알파벳, 한글, .외에는 모두 제거\n",
    "X_train['comment'] = X_train['comment'].str.replace('[^0-9a-zA-Zㄱ-ㅎㅏ-ㅣ가-힣 ]','')\n",
    "X_train.head()"
   ]
  },
  {
   "cell_type": "code",
   "execution_count": null,
   "metadata": {
    "colab": {
     "base_uri": "https://localhost:8080/",
     "height": 243
    },
    "id": "5rY70i4W_xai",
    "outputId": "83431ffa-39e7-4472-fca2-0f43557cfbce"
   },
   "outputs": [
    {
     "name": "stderr",
     "output_type": "stream",
     "text": [
      "/usr/local/lib/python3.7/dist-packages/ipykernel_launcher.py:2: FutureWarning: The default value of regex will change from True to False in a future version.\n",
      "  \n"
     ]
    },
    {
     "data": {
      "text/html": [
       "\n",
       "  <div id=\"df-16ac720e-4825-413e-9888-198410355d33\">\n",
       "    <div class=\"colab-df-container\">\n",
       "      <div>\n",
       "<style scoped>\n",
       "    .dataframe tbody tr th:only-of-type {\n",
       "        vertical-align: middle;\n",
       "    }\n",
       "\n",
       "    .dataframe tbody tr th {\n",
       "        vertical-align: top;\n",
       "    }\n",
       "\n",
       "    .dataframe thead th {\n",
       "        text-align: right;\n",
       "    }\n",
       "</style>\n",
       "<table border=\"1\" class=\"dataframe\">\n",
       "  <thead>\n",
       "    <tr style=\"text-align: right;\">\n",
       "      <th></th>\n",
       "      <th>comment</th>\n",
       "      <th>label</th>\n",
       "    </tr>\n",
       "  </thead>\n",
       "  <tbody>\n",
       "    <tr>\n",
       "      <th>176804</th>\n",
       "      <td>8카후기매물이 있길래 급여 아낄겸 구매했는데 생각보다 괜춘함 근데 이새끼쓰다가 카르...</td>\n",
       "      <td>0</td>\n",
       "    </tr>\n",
       "    <tr>\n",
       "      <th>143834</th>\n",
       "      <td>와크로스 하나는 일품이네올리는 족족 골 선물임 ㅋㅋㅋ맨유 우측 졸업</td>\n",
       "      <td>0</td>\n",
       "    </tr>\n",
       "    <tr>\n",
       "      <th>28949</th>\n",
       "      <td>노미니mc</td>\n",
       "      <td>0</td>\n",
       "    </tr>\n",
       "    <tr>\n",
       "      <th>77013</th>\n",
       "      <td>잉국 5카 풀케미 기준얘는 내가 정말 좋아해서 얘는 이번에 4번째 쓰는데 쓰는방법 ...</td>\n",
       "      <td>1</td>\n",
       "    </tr>\n",
       "    <tr>\n",
       "      <th>19489</th>\n",
       "      <td>프로게이머들이 버린 선수인데 여기는 왜이리 호평이 많지</td>\n",
       "      <td>0</td>\n",
       "    </tr>\n",
       "  </tbody>\n",
       "</table>\n",
       "</div>\n",
       "      <button class=\"colab-df-convert\" onclick=\"convertToInteractive('df-16ac720e-4825-413e-9888-198410355d33')\"\n",
       "              title=\"Convert this dataframe to an interactive table.\"\n",
       "              style=\"display:none;\">\n",
       "        \n",
       "  <svg xmlns=\"http://www.w3.org/2000/svg\" height=\"24px\"viewBox=\"0 0 24 24\"\n",
       "       width=\"24px\">\n",
       "    <path d=\"M0 0h24v24H0V0z\" fill=\"none\"/>\n",
       "    <path d=\"M18.56 5.44l.94 2.06.94-2.06 2.06-.94-2.06-.94-.94-2.06-.94 2.06-2.06.94zm-11 1L8.5 8.5l.94-2.06 2.06-.94-2.06-.94L8.5 2.5l-.94 2.06-2.06.94zm10 10l.94 2.06.94-2.06 2.06-.94-2.06-.94-.94-2.06-.94 2.06-2.06.94z\"/><path d=\"M17.41 7.96l-1.37-1.37c-.4-.4-.92-.59-1.43-.59-.52 0-1.04.2-1.43.59L10.3 9.45l-7.72 7.72c-.78.78-.78 2.05 0 2.83L4 21.41c.39.39.9.59 1.41.59.51 0 1.02-.2 1.41-.59l7.78-7.78 2.81-2.81c.8-.78.8-2.07 0-2.86zM5.41 20L4 18.59l7.72-7.72 1.47 1.35L5.41 20z\"/>\n",
       "  </svg>\n",
       "      </button>\n",
       "      \n",
       "  <style>\n",
       "    .colab-df-container {\n",
       "      display:flex;\n",
       "      flex-wrap:wrap;\n",
       "      gap: 12px;\n",
       "    }\n",
       "\n",
       "    .colab-df-convert {\n",
       "      background-color: #E8F0FE;\n",
       "      border: none;\n",
       "      border-radius: 50%;\n",
       "      cursor: pointer;\n",
       "      display: none;\n",
       "      fill: #1967D2;\n",
       "      height: 32px;\n",
       "      padding: 0 0 0 0;\n",
       "      width: 32px;\n",
       "    }\n",
       "\n",
       "    .colab-df-convert:hover {\n",
       "      background-color: #E2EBFA;\n",
       "      box-shadow: 0px 1px 2px rgba(60, 64, 67, 0.3), 0px 1px 3px 1px rgba(60, 64, 67, 0.15);\n",
       "      fill: #174EA6;\n",
       "    }\n",
       "\n",
       "    [theme=dark] .colab-df-convert {\n",
       "      background-color: #3B4455;\n",
       "      fill: #D2E3FC;\n",
       "    }\n",
       "\n",
       "    [theme=dark] .colab-df-convert:hover {\n",
       "      background-color: #434B5C;\n",
       "      box-shadow: 0px 1px 3px 1px rgba(0, 0, 0, 0.15);\n",
       "      filter: drop-shadow(0px 1px 2px rgba(0, 0, 0, 0.3));\n",
       "      fill: #FFFFFF;\n",
       "    }\n",
       "  </style>\n",
       "\n",
       "      <script>\n",
       "        const buttonEl =\n",
       "          document.querySelector('#df-16ac720e-4825-413e-9888-198410355d33 button.colab-df-convert');\n",
       "        buttonEl.style.display =\n",
       "          google.colab.kernel.accessAllowed ? 'block' : 'none';\n",
       "\n",
       "        async function convertToInteractive(key) {\n",
       "          const element = document.querySelector('#df-16ac720e-4825-413e-9888-198410355d33');\n",
       "          const dataTable =\n",
       "            await google.colab.kernel.invokeFunction('convertToInteractive',\n",
       "                                                     [key], {});\n",
       "          if (!dataTable) return;\n",
       "\n",
       "          const docLinkHtml = 'Like what you see? Visit the ' +\n",
       "            '<a target=\"_blank\" href=https://colab.research.google.com/notebooks/data_table.ipynb>data table notebook</a>'\n",
       "            + ' to learn more about interactive tables.';\n",
       "          element.innerHTML = '';\n",
       "          dataTable['output_type'] = 'display_data';\n",
       "          await google.colab.output.renderOutput(dataTable, element);\n",
       "          const docLink = document.createElement('div');\n",
       "          docLink.innerHTML = docLinkHtml;\n",
       "          element.appendChild(docLink);\n",
       "        }\n",
       "      </script>\n",
       "    </div>\n",
       "  </div>\n",
       "  "
      ],
      "text/plain": [
       "                                                  comment  label\n",
       "176804  8카후기매물이 있길래 급여 아낄겸 구매했는데 생각보다 괜춘함 근데 이새끼쓰다가 카르...      0\n",
       "143834              와크로스 하나는 일품이네올리는 족족 골 선물임 ㅋㅋㅋ맨유 우측 졸업      0\n",
       "28949                                               노미니mc      0\n",
       "77013   잉국 5카 풀케미 기준얘는 내가 정말 좋아해서 얘는 이번에 4번째 쓰는데 쓰는방법 ...      1\n",
       "19489                      프로게이머들이 버린 선수인데 여기는 왜이리 호평이 많지      0"
      ]
     },
     "execution_count": 249,
     "metadata": {},
     "output_type": "execute_result"
    }
   ],
   "source": [
    "#테스트 데이터도\n",
    "X_test['comment'] = X_test['comment'].str.replace('[^0-9a-zA-Zㄱ-ㅎㅏ-ㅣ가-힣 ]','')\n",
    "X_test.head()\n"
   ]
  },
  {
   "cell_type": "code",
   "execution_count": null,
   "metadata": {
    "colab": {
     "base_uri": "https://localhost:8080/"
    },
    "id": "UA-sHVdqEzgA",
    "outputId": "4a242ae6-972f-4c3c-d1ee-5215fc5690be"
   },
   "outputs": [
    {
     "name": "stdout",
     "output_type": "stream",
     "text": [
      "0\n",
      "0\n",
      "741\n",
      "47\n"
     ]
    }
   ],
   "source": [
    "print(X_train.isnull().sum().sum())\n",
    "print(X_test.isnull().sum().sum())\n",
    "print(X_train.duplicated(subset = 'comment').sum())\n",
    "print(X_test.duplicated(subset = 'comment').sum())"
   ]
  },
  {
   "cell_type": "code",
   "execution_count": null,
   "metadata": {
    "colab": {
     "base_uri": "https://localhost:8080/",
     "height": 432
    },
    "id": "00RNeCR7_xdH",
    "outputId": "9d7482c4-f58a-4c07-d2bf-9d9dea86c30c"
   },
   "outputs": [
    {
     "data": {
      "text/html": [
       "\n",
       "  <div id=\"df-783949a8-f0f9-4188-b0ea-e7e4d924dd51\">\n",
       "    <div class=\"colab-df-container\">\n",
       "      <div>\n",
       "<style scoped>\n",
       "    .dataframe tbody tr th:only-of-type {\n",
       "        vertical-align: middle;\n",
       "    }\n",
       "\n",
       "    .dataframe tbody tr th {\n",
       "        vertical-align: top;\n",
       "    }\n",
       "\n",
       "    .dataframe thead th {\n",
       "        text-align: right;\n",
       "    }\n",
       "</style>\n",
       "<table border=\"1\" class=\"dataframe\">\n",
       "  <thead>\n",
       "    <tr style=\"text-align: right;\">\n",
       "      <th></th>\n",
       "      <th>comment</th>\n",
       "      <th>label</th>\n",
       "    </tr>\n",
       "  </thead>\n",
       "  <tbody>\n",
       "    <tr>\n",
       "      <th>67681</th>\n",
       "      <td>금카 구매합니다</td>\n",
       "      <td>0</td>\n",
       "    </tr>\n",
       "    <tr>\n",
       "      <th>185798</th>\n",
       "      <td>감사합니다</td>\n",
       "      <td>0</td>\n",
       "    </tr>\n",
       "    <tr>\n",
       "      <th>69222</th>\n",
       "      <td>금카 올렸습니다</td>\n",
       "      <td>0</td>\n",
       "    </tr>\n",
       "    <tr>\n",
       "      <th>177780</th>\n",
       "      <td>7카 구해봅니다</td>\n",
       "      <td>0</td>\n",
       "    </tr>\n",
       "    <tr>\n",
       "      <th>111061</th>\n",
       "      <td>금카 올렸습니다</td>\n",
       "      <td>0</td>\n",
       "    </tr>\n",
       "  </tbody>\n",
       "</table>\n",
       "</div>\n",
       "      <button class=\"colab-df-convert\" onclick=\"convertToInteractive('df-783949a8-f0f9-4188-b0ea-e7e4d924dd51')\"\n",
       "              title=\"Convert this dataframe to an interactive table.\"\n",
       "              style=\"display:none;\">\n",
       "        \n",
       "  <svg xmlns=\"http://www.w3.org/2000/svg\" height=\"24px\"viewBox=\"0 0 24 24\"\n",
       "       width=\"24px\">\n",
       "    <path d=\"M0 0h24v24H0V0z\" fill=\"none\"/>\n",
       "    <path d=\"M18.56 5.44l.94 2.06.94-2.06 2.06-.94-2.06-.94-.94-2.06-.94 2.06-2.06.94zm-11 1L8.5 8.5l.94-2.06 2.06-.94-2.06-.94L8.5 2.5l-.94 2.06-2.06.94zm10 10l.94 2.06.94-2.06 2.06-.94-2.06-.94-.94-2.06-.94 2.06-2.06.94z\"/><path d=\"M17.41 7.96l-1.37-1.37c-.4-.4-.92-.59-1.43-.59-.52 0-1.04.2-1.43.59L10.3 9.45l-7.72 7.72c-.78.78-.78 2.05 0 2.83L4 21.41c.39.39.9.59 1.41.59.51 0 1.02-.2 1.41-.59l7.78-7.78 2.81-2.81c.8-.78.8-2.07 0-2.86zM5.41 20L4 18.59l7.72-7.72 1.47 1.35L5.41 20z\"/>\n",
       "  </svg>\n",
       "      </button>\n",
       "      \n",
       "  <style>\n",
       "    .colab-df-container {\n",
       "      display:flex;\n",
       "      flex-wrap:wrap;\n",
       "      gap: 12px;\n",
       "    }\n",
       "\n",
       "    .colab-df-convert {\n",
       "      background-color: #E8F0FE;\n",
       "      border: none;\n",
       "      border-radius: 50%;\n",
       "      cursor: pointer;\n",
       "      display: none;\n",
       "      fill: #1967D2;\n",
       "      height: 32px;\n",
       "      padding: 0 0 0 0;\n",
       "      width: 32px;\n",
       "    }\n",
       "\n",
       "    .colab-df-convert:hover {\n",
       "      background-color: #E2EBFA;\n",
       "      box-shadow: 0px 1px 2px rgba(60, 64, 67, 0.3), 0px 1px 3px 1px rgba(60, 64, 67, 0.15);\n",
       "      fill: #174EA6;\n",
       "    }\n",
       "\n",
       "    [theme=dark] .colab-df-convert {\n",
       "      background-color: #3B4455;\n",
       "      fill: #D2E3FC;\n",
       "    }\n",
       "\n",
       "    [theme=dark] .colab-df-convert:hover {\n",
       "      background-color: #434B5C;\n",
       "      box-shadow: 0px 1px 3px 1px rgba(0, 0, 0, 0.15);\n",
       "      filter: drop-shadow(0px 1px 2px rgba(0, 0, 0, 0.3));\n",
       "      fill: #FFFFFF;\n",
       "    }\n",
       "  </style>\n",
       "\n",
       "      <script>\n",
       "        const buttonEl =\n",
       "          document.querySelector('#df-783949a8-f0f9-4188-b0ea-e7e4d924dd51 button.colab-df-convert');\n",
       "        buttonEl.style.display =\n",
       "          google.colab.kernel.accessAllowed ? 'block' : 'none';\n",
       "\n",
       "        async function convertToInteractive(key) {\n",
       "          const element = document.querySelector('#df-783949a8-f0f9-4188-b0ea-e7e4d924dd51');\n",
       "          const dataTable =\n",
       "            await google.colab.kernel.invokeFunction('convertToInteractive',\n",
       "                                                     [key], {});\n",
       "          if (!dataTable) return;\n",
       "\n",
       "          const docLinkHtml = 'Like what you see? Visit the ' +\n",
       "            '<a target=\"_blank\" href=https://colab.research.google.com/notebooks/data_table.ipynb>data table notebook</a>'\n",
       "            + ' to learn more about interactive tables.';\n",
       "          element.innerHTML = '';\n",
       "          dataTable['output_type'] = 'display_data';\n",
       "          await google.colab.output.renderOutput(dataTable, element);\n",
       "          const docLink = document.createElement('div');\n",
       "          docLink.innerHTML = docLinkHtml;\n",
       "          element.appendChild(docLink);\n",
       "        }\n",
       "      </script>\n",
       "    </div>\n",
       "  </div>\n",
       "  "
      ],
      "text/plain": [
       "         comment  label\n",
       "67681   금카 구매합니다      0\n",
       "185798     감사합니다      0\n",
       "69222   금카 올렸습니다      0\n",
       "177780  7카 구해봅니다      0\n",
       "111061  금카 올렸습니다      0"
      ]
     },
     "metadata": {},
     "output_type": "display_data"
    },
    {
     "data": {
      "text/html": [
       "\n",
       "  <div id=\"df-816576ba-e607-4506-b899-385a821512f9\">\n",
       "    <div class=\"colab-df-container\">\n",
       "      <div>\n",
       "<style scoped>\n",
       "    .dataframe tbody tr th:only-of-type {\n",
       "        vertical-align: middle;\n",
       "    }\n",
       "\n",
       "    .dataframe tbody tr th {\n",
       "        vertical-align: top;\n",
       "    }\n",
       "\n",
       "    .dataframe thead th {\n",
       "        text-align: right;\n",
       "    }\n",
       "</style>\n",
       "<table border=\"1\" class=\"dataframe\">\n",
       "  <thead>\n",
       "    <tr style=\"text-align: right;\">\n",
       "      <th></th>\n",
       "      <th>comment</th>\n",
       "      <th>label</th>\n",
       "    </tr>\n",
       "  </thead>\n",
       "  <tbody>\n",
       "    <tr>\n",
       "      <th>113942</th>\n",
       "      <td>혹시 팔렸나요</td>\n",
       "      <td>0</td>\n",
       "    </tr>\n",
       "    <tr>\n",
       "      <th>61229</th>\n",
       "      <td>혹시 팔렸나요</td>\n",
       "      <td>0</td>\n",
       "    </tr>\n",
       "    <tr>\n",
       "      <th>77101</th>\n",
       "      <td>금카구해요</td>\n",
       "      <td>0</td>\n",
       "    </tr>\n",
       "    <tr>\n",
       "      <th>24590</th>\n",
       "      <td>팔아주신분 감사합니다</td>\n",
       "      <td>0</td>\n",
       "    </tr>\n",
       "    <tr>\n",
       "      <th>104028</th>\n",
       "      <td>금카 팜</td>\n",
       "      <td>0</td>\n",
       "    </tr>\n",
       "  </tbody>\n",
       "</table>\n",
       "</div>\n",
       "      <button class=\"colab-df-convert\" onclick=\"convertToInteractive('df-816576ba-e607-4506-b899-385a821512f9')\"\n",
       "              title=\"Convert this dataframe to an interactive table.\"\n",
       "              style=\"display:none;\">\n",
       "        \n",
       "  <svg xmlns=\"http://www.w3.org/2000/svg\" height=\"24px\"viewBox=\"0 0 24 24\"\n",
       "       width=\"24px\">\n",
       "    <path d=\"M0 0h24v24H0V0z\" fill=\"none\"/>\n",
       "    <path d=\"M18.56 5.44l.94 2.06.94-2.06 2.06-.94-2.06-.94-.94-2.06-.94 2.06-2.06.94zm-11 1L8.5 8.5l.94-2.06 2.06-.94-2.06-.94L8.5 2.5l-.94 2.06-2.06.94zm10 10l.94 2.06.94-2.06 2.06-.94-2.06-.94-.94-2.06-.94 2.06-2.06.94z\"/><path d=\"M17.41 7.96l-1.37-1.37c-.4-.4-.92-.59-1.43-.59-.52 0-1.04.2-1.43.59L10.3 9.45l-7.72 7.72c-.78.78-.78 2.05 0 2.83L4 21.41c.39.39.9.59 1.41.59.51 0 1.02-.2 1.41-.59l7.78-7.78 2.81-2.81c.8-.78.8-2.07 0-2.86zM5.41 20L4 18.59l7.72-7.72 1.47 1.35L5.41 20z\"/>\n",
       "  </svg>\n",
       "      </button>\n",
       "      \n",
       "  <style>\n",
       "    .colab-df-container {\n",
       "      display:flex;\n",
       "      flex-wrap:wrap;\n",
       "      gap: 12px;\n",
       "    }\n",
       "\n",
       "    .colab-df-convert {\n",
       "      background-color: #E8F0FE;\n",
       "      border: none;\n",
       "      border-radius: 50%;\n",
       "      cursor: pointer;\n",
       "      display: none;\n",
       "      fill: #1967D2;\n",
       "      height: 32px;\n",
       "      padding: 0 0 0 0;\n",
       "      width: 32px;\n",
       "    }\n",
       "\n",
       "    .colab-df-convert:hover {\n",
       "      background-color: #E2EBFA;\n",
       "      box-shadow: 0px 1px 2px rgba(60, 64, 67, 0.3), 0px 1px 3px 1px rgba(60, 64, 67, 0.15);\n",
       "      fill: #174EA6;\n",
       "    }\n",
       "\n",
       "    [theme=dark] .colab-df-convert {\n",
       "      background-color: #3B4455;\n",
       "      fill: #D2E3FC;\n",
       "    }\n",
       "\n",
       "    [theme=dark] .colab-df-convert:hover {\n",
       "      background-color: #434B5C;\n",
       "      box-shadow: 0px 1px 3px 1px rgba(0, 0, 0, 0.15);\n",
       "      filter: drop-shadow(0px 1px 2px rgba(0, 0, 0, 0.3));\n",
       "      fill: #FFFFFF;\n",
       "    }\n",
       "  </style>\n",
       "\n",
       "      <script>\n",
       "        const buttonEl =\n",
       "          document.querySelector('#df-816576ba-e607-4506-b899-385a821512f9 button.colab-df-convert');\n",
       "        buttonEl.style.display =\n",
       "          google.colab.kernel.accessAllowed ? 'block' : 'none';\n",
       "\n",
       "        async function convertToInteractive(key) {\n",
       "          const element = document.querySelector('#df-816576ba-e607-4506-b899-385a821512f9');\n",
       "          const dataTable =\n",
       "            await google.colab.kernel.invokeFunction('convertToInteractive',\n",
       "                                                     [key], {});\n",
       "          if (!dataTable) return;\n",
       "\n",
       "          const docLinkHtml = 'Like what you see? Visit the ' +\n",
       "            '<a target=\"_blank\" href=https://colab.research.google.com/notebooks/data_table.ipynb>data table notebook</a>'\n",
       "            + ' to learn more about interactive tables.';\n",
       "          element.innerHTML = '';\n",
       "          dataTable['output_type'] = 'display_data';\n",
       "          await google.colab.output.renderOutput(dataTable, element);\n",
       "          const docLink = document.createElement('div');\n",
       "          docLink.innerHTML = docLinkHtml;\n",
       "          element.appendChild(docLink);\n",
       "        }\n",
       "      </script>\n",
       "    </div>\n",
       "  </div>\n",
       "  "
      ],
      "text/plain": [
       "             comment  label\n",
       "113942       혹시 팔렸나요      0\n",
       "61229        혹시 팔렸나요      0\n",
       "77101          금카구해요      0\n",
       "24590   팔아주신분 감사합니다       0\n",
       "104028          금카 팜      0"
      ]
     },
     "metadata": {},
     "output_type": "display_data"
    },
    {
     "name": "stdout",
     "output_type": "stream",
     "text": [
      "0\n",
      "0\n"
     ]
    }
   ],
   "source": [
    "#중복 확인 및 제거\n",
    "display(X_train[X_train.duplicated(subset = 'comment')].head())\n",
    "display(X_test[X_test.duplicated(subset = 'comment')].head())\n",
    "\n",
    "X_train.drop_duplicates(subset = 'comment',inplace = True)\n",
    "X_test.drop_duplicates(subset = 'comment',inplace = True)\n",
    "print(X_train.duplicated().sum())\n",
    "print(X_test.duplicated().sum())"
   ]
  },
  {
   "cell_type": "code",
   "execution_count": null,
   "metadata": {
    "colab": {
     "base_uri": "https://localhost:8080/"
    },
    "id": "e2-rnhlr_xfq",
    "outputId": "e804727c-962c-4cc5-985d-0df470da72b0"
   },
   "outputs": [
    {
     "data": {
      "text/plain": [
       "((154911, 2), (38866, 2))"
      ]
     },
     "execution_count": 252,
     "metadata": {},
     "output_type": "execute_result"
    }
   ],
   "source": [
    "X_train.shape, X_test.shape"
   ]
  },
  {
   "cell_type": "code",
   "execution_count": null,
   "metadata": {
    "id": "kBBzbQYMFyVm"
   },
   "outputs": [],
   "source": [
    "# 불용어 사전\n",
    "stopwords = ['도', '는', '다', '의', '가', '이', '은', '한', '에', '하', '고', '을', '를', \n",
    "             '인', '듯', '과', '와', '네', '들', '듯', '지', '임', '게', '구매합니다', '올렸습니다',\n",
    "             '팔렸나요', '팔아주신분', '얼만가요', '판매합니다']"
   ]
  },
  {
   "cell_type": "code",
   "execution_count": null,
   "metadata": {
    "id": "1U7RJNd-Gm6j"
   },
   "outputs": [],
   "source": [
    "mecab = Mecab()\n",
    "\n",
    "# 토큰화, 불용어 제거\n",
    "X_train['tokenized'] = X_train['comment'].apply(mecab.morphs)\n",
    "X_train['tokenized'] = X_train['tokenized'].apply(lambda x: [item for item in x if item not in stopwords])\n",
    "\n",
    "X_test['tokenized'] = X_test['comment'].apply(mecab.morphs)\n",
    "X_test['tokenized'] = X_test['tokenized'].apply(lambda x: [item for item in x if item not in stopwords])"
   ]
  },
  {
   "cell_type": "code",
   "execution_count": null,
   "metadata": {
    "id": "GWXAydctHWs2"
   },
   "outputs": [],
   "source": [
    "#긍정과 부정 단어는 어떤 단어들이 많이 나올까\n",
    "negative_words = np.hstack(X_train[X_train.label == 0]['tokenized'].values)\n",
    "positive_words = np.hstack(X_test[X_test.label == 1]['tokenized'].values)"
   ]
  },
  {
   "cell_type": "code",
   "execution_count": null,
   "metadata": {
    "colab": {
     "base_uri": "https://localhost:8080/"
    },
    "id": "2Lnn288LHsoB",
    "outputId": "0981132e-8c0a-4172-bd8c-d0bc6ef7fe83"
   },
   "outputs": [
    {
     "name": "stdout",
     "output_type": "stream",
     "text": [
      "[('카', 63095), ('좋', 34303), ('쓰', 33787), ('면', 30714), ('는데', 28809), ('ㅋㅋㅋ', 23053), ('음', 22931), ('안', 22624), ('있', 21748), ('거', 20383)]\n"
     ]
    }
   ],
   "source": [
    "negative_word_count = Counter(negative_words)\n",
    "print(negative_word_count.most_common(10))"
   ]
  },
  {
   "cell_type": "code",
   "execution_count": null,
   "metadata": {
    "colab": {
     "base_uri": "https://localhost:8080/"
    },
    "id": "tHCtclad_xiK",
    "outputId": "1f39a7cf-de2d-4339-d1e1-b6322a34c366"
   },
   "outputs": [
    {
     "name": "stdout",
     "output_type": "stream",
     "text": [
      "[('좋', 13350), ('카', 7443), ('음', 7370), ('면', 5875), ('쓰', 5637), ('는데', 4877), ('있', 4448), ('로', 4369), ('으로', 4146), ('안', 4069)]\n"
     ]
    }
   ],
   "source": [
    "positive_word_count = Counter(positive_words)\n",
    "print(positive_word_count.most_common(10))"
   ]
  },
  {
   "cell_type": "code",
   "execution_count": null,
   "metadata": {
    "colab": {
     "base_uri": "https://localhost:8080/"
    },
    "id": "-COmEsij_xkc",
    "outputId": "94c7e38e-2240-481c-fe17-196c52355033"
   },
   "outputs": [
    {
     "name": "stdout",
     "output_type": "stream",
     "text": [
      "긍정리뷰 평균 길이 62.981199275996964\n",
      "부정리뷰 평균 길이 23.539604001425527\n"
     ]
    }
   ],
   "source": [
    "positive_len = X_train[X_train.label == 1]['tokenized'].map(lambda x: len(x))\n",
    "negative_len = X_train[X_train.label == 0]['tokenized'].map(lambda x: len(x))\n",
    "print('긍정리뷰 평균 길이', np.mean(positive_len)) # 긍정리뷰 길이가 부정리뷰보다 훨씬 길다.\n",
    "print('부정리뷰 평균 길이', np.mean(negative_len))"
   ]
  },
  {
   "cell_type": "code",
   "execution_count": null,
   "metadata": {
    "id": "Tl97DCi2Inig"
   },
   "outputs": [],
   "source": [
    "X_train_tokenized = X_train['tokenized'].values\n",
    "X_test_tokenized = X_test['tokenized'].values\n",
    "y_train = X_train['label'].values\n",
    "y_test = X_test['label'].values\n"
   ]
  },
  {
   "cell_type": "code",
   "execution_count": null,
   "metadata": {
    "colab": {
     "base_uri": "https://localhost:8080/"
    },
    "id": "uFmg-Y9OlMjZ",
    "outputId": "3a31219a-0fc9-4fba-bdc2-63fb621cda10"
   },
   "outputs": [
    {
     "name": "stdout",
     "output_type": "stream",
     "text": [
      "(154911, 3) (154911,) (38866, 3) (38866,)\n"
     ]
    }
   ],
   "source": [
    "print(X_train.shape, y_train.shape, X_test.shape, y_test.shape)"
   ]
  },
  {
   "cell_type": "code",
   "execution_count": null,
   "metadata": {
    "colab": {
     "base_uri": "https://localhost:8080/"
    },
    "id": "OixVpT3BStKn",
    "outputId": "919d7161-1ce4-46fa-fd00-43ed9aba11ad"
   },
   "outputs": [
    {
     "data": {
      "text/plain": [
       "['맨', '시티', '구단', '고급', '여', '풀백', '으로', '쓸라', '카', '만']"
      ]
     },
     "execution_count": 261,
     "metadata": {},
     "output_type": "execute_result"
    }
   ],
   "source": [
    "X_train_tokenized[0][:10]"
   ]
  },
  {
   "cell_type": "code",
   "execution_count": null,
   "metadata": {
    "id": "JBwMpF9VKgai"
   },
   "outputs": [],
   "source": [
    "# 정수 인코딩\n",
    "t = Tokenizer()\n",
    "t.fit_on_texts(X_train_tokenized)"
   ]
  },
  {
   "cell_type": "code",
   "execution_count": null,
   "metadata": {
    "colab": {
     "base_uri": "https://localhost:8080/"
    },
    "id": "snvoolQwKqAA",
    "outputId": "7796cbfc-dd1d-426a-adfa-16091c4f7313"
   },
   "outputs": [
    {
     "name": "stdout",
     "output_type": "stream",
     "text": [
      "전체 단어의 수 52059\n",
      "2번 이하로 등장한 희귀 단어 수 24394\n",
      "전체 단어 중 희귀 단어 비율 46.858372231506564\n",
      "전체 단어의 빈도에서 희귀 단어 빈도의 비율 0.48811663894656127\n"
     ]
    }
   ],
   "source": [
    "threshold = 2\n",
    "total_cnt = len(t.word_index) #단어 수\n",
    "rare_cnt = 0 # 2번보다 적게 나온 단어 갯수\n",
    "total_freq = 0 #학습 데이터 전체 단어의 빈도수 합\n",
    "rare_freq = 0 # 희귀 단어 전체의 빈도수 합\n",
    "\n",
    "for key,value in t.word_counts.items():\n",
    "  total_freq = total_freq + value\n",
    "\n",
    "  if value < threshold:\n",
    "    rare_cnt = rare_cnt + 1\n",
    "    rare_freq = rare_freq + value\n",
    "\n",
    "print('전체 단어의 수', total_cnt)\n",
    "print('2번 이하로 등장한 희귀 단어 수', rare_cnt)\n",
    "print('전체 단어 중 희귀 단어 비율', (rare_cnt / total_cnt) * 100)\n",
    "print('전체 단어의 빈도에서 희귀 단어 빈도의 비율', (rare_freq / total_freq) * 100)\n",
    "\n",
    "#전체 단어 중 희귀 단어가 46퍼센트지만 등장 빈도는 0.5% 밖에 되지 않기 때문에 별로 중요하지 않을 것 같다.\n",
    "#희귀단어를 제거해보자."
   ]
  },
  {
   "cell_type": "code",
   "execution_count": null,
   "metadata": {
    "colab": {
     "base_uri": "https://localhost:8080/"
    },
    "id": "Dqx4wB64MmRN",
    "outputId": "b615306c-6dba-425d-ebfa-0d8b3643c781"
   },
   "outputs": [
    {
     "name": "stdout",
     "output_type": "stream",
     "text": [
      "27667\n"
     ]
    }
   ],
   "source": [
    "# 전체 단어 - 희귀 단어 = 2번 이상 등장한 단어.\n",
    "# 빈도수가 높은 단어순으로 저장되기 때문에.\n",
    "# +2는 패딩과 OOV 토큰 고려\n",
    "\n",
    "vocab_size = total_cnt - rare_cnt + 2\n",
    "print(vocab_size)"
   ]
  },
  {
   "cell_type": "code",
   "execution_count": null,
   "metadata": {
    "colab": {
     "base_uri": "https://localhost:8080/"
    },
    "id": "vAaZWW1SR1z4",
    "outputId": "b14ef29e-2043-43ee-aa67-11b8e61119ec"
   },
   "outputs": [
    {
     "name": "stdout",
     "output_type": "stream",
     "text": [
      "[[243, 717, 956, 937, 375, 205, 11, 6344, 2, 24, 327, 7, 194, 287, 1761, 1822, 2430, 28, 99, 530, 103, 106, 158, 269, 153, 1778, 248, 205, 165, 521, 333, 143, 53, 750, 45, 3324, 9001, 10, 117, 29, 263, 45, 8, 6, 242, 98, 26, 1312, 529, 223, 372, 14, 112, 56, 32], [1164, 469, 34, 2, 52, 25, 3, 93, 32, 33, 167, 59, 2098, 3508, 87, 27, 242, 662, 167, 1160, 1126, 40, 6956, 1022, 77]]\n",
      "[[193, 2, 154, 446, 8, 558, 41, 2479, 1830, 259, 83, 7, 56, 40, 7475, 114, 282, 4, 94, 3610, 4, 5, 205, 8088, 32, 660, 93, 32], [91, 181, 1201, 575, 5607, 81, 9567, 13, 243, 337, 1777, 1209]]\n"
     ]
    }
   ],
   "source": [
    "t = Tokenizer(vocab_size, oov_token = 'OOV') \n",
    "t.fit_on_texts(X_train_tokenized)\n",
    "X_train_encoded = t.texts_to_sequences(X_train_tokenized)\n",
    "X_test_encoded = t.texts_to_sequences(X_test_tokenized)\n",
    "\n",
    "print(X_train_encoded[:2])\n",
    "print(X_test_encoded[:2])"
   ]
  },
  {
   "cell_type": "code",
   "execution_count": null,
   "metadata": {
    "colab": {
     "base_uri": "https://localhost:8080/"
    },
    "id": "q2sykT8CSFo2",
    "outputId": "f8bbf235-c834-450b-e48a-4d84935d159b"
   },
   "outputs": [
    {
     "name": "stdout",
     "output_type": "stream",
     "text": [
      "리뷰 최대 길이  2056\n",
      "리뷰 평균 길이  32.26094983571212\n"
     ]
    }
   ],
   "source": [
    "# 패딩\n",
    "print('리뷰 최대 길이 ', max(len(review) for review in X_train_encoded))\n",
    "print('리뷰 평균 길이 ', sum(map(len, X_train_encoded)) / len( X_train_encoded))"
   ]
  },
  {
   "cell_type": "code",
   "execution_count": null,
   "metadata": {
    "id": "vd8cmVjVT2Nf"
   },
   "outputs": [],
   "source": [
    "def below_threshold_len(max_len, data):\n",
    "  count = 0\n",
    "  for sentence in data:\n",
    "    if(len(sentence) <= max_len):\n",
    "        count = count + 1\n",
    "  print(count / len(data)*100)"
   ]
  },
  {
   "cell_type": "code",
   "execution_count": null,
   "metadata": {
    "colab": {
     "base_uri": "https://localhost:8080/"
    },
    "id": "2Enm9p4MUmjc",
    "outputId": "1cc9bfe2-6f6b-46bf-8f30-f3fe87efdb55"
   },
   "outputs": [
    {
     "name": "stdout",
     "output_type": "stream",
     "text": [
      "98.76961610214897\n"
     ]
    }
   ],
   "source": [
    "# 길이를 200으로 하면 약 98퍼센트 이상 데이터를 보존할 수 있다.\n",
    "# 200으로 패딩하자.\n",
    "below_threshold_len(200, X_train_encoded)"
   ]
  },
  {
   "cell_type": "code",
   "execution_count": null,
   "metadata": {
    "colab": {
     "base_uri": "https://localhost:8080/"
    },
    "id": "efsGgqujU6ts",
    "outputId": "e5f99aa4-f7d6-4c59-997c-14a0fb1b66ab"
   },
   "outputs": [
    {
     "data": {
      "text/plain": [
       "array([  0,   0,   0,   0,   0,   0,   0,   0,   0,   0,   0,   0,   0,\n",
       "         0,   0,   0,   0,   0,   0,   0,   0,   0,   0,   0,   0,   0,\n",
       "         0,   0,   0,   0,   0,   0,   0,   0,   0,   0,   0,   0,   0,\n",
       "         0,   0,   0,   0,   0,   0, 243, 717, 956, 937, 375], dtype=int32)"
      ]
     },
     "execution_count": 269,
     "metadata": {},
     "output_type": "execute_result"
    }
   ],
   "source": [
    "max_len = 200\n",
    "X_train_padded = pad_sequences(X_train_encoded, maxlen = max_len)\n",
    "X_test_padded = pad_sequences(X_test_encoded, maxlen = max_len)\n",
    "X_train_padded[0][100:150]"
   ]
  },
  {
   "cell_type": "code",
   "execution_count": null,
   "metadata": {
    "colab": {
     "base_uri": "https://localhost:8080/",
     "height": 236
    },
    "id": "mWdnjvzLUlaC",
    "outputId": "e43d12fa-d477-4f2c-9759-cc9e5de25914"
   },
   "outputs": [
    {
     "data": {
      "text/html": [
       "\n",
       "  <div id=\"df-0534cd33-bd67-46f1-a6bf-a1a7a0b9d044\">\n",
       "    <div class=\"colab-df-container\">\n",
       "      <div>\n",
       "<style scoped>\n",
       "    .dataframe tbody tr th:only-of-type {\n",
       "        vertical-align: middle;\n",
       "    }\n",
       "\n",
       "    .dataframe tbody tr th {\n",
       "        vertical-align: top;\n",
       "    }\n",
       "\n",
       "    .dataframe thead th {\n",
       "        text-align: right;\n",
       "    }\n",
       "</style>\n",
       "<table border=\"1\" class=\"dataframe\">\n",
       "  <thead>\n",
       "    <tr style=\"text-align: right;\">\n",
       "      <th></th>\n",
       "      <th>0</th>\n",
       "      <th>1</th>\n",
       "      <th>2</th>\n",
       "      <th>3</th>\n",
       "      <th>4</th>\n",
       "      <th>5</th>\n",
       "      <th>6</th>\n",
       "      <th>7</th>\n",
       "      <th>8</th>\n",
       "      <th>9</th>\n",
       "      <th>...</th>\n",
       "      <th>190</th>\n",
       "      <th>191</th>\n",
       "      <th>192</th>\n",
       "      <th>193</th>\n",
       "      <th>194</th>\n",
       "      <th>195</th>\n",
       "      <th>196</th>\n",
       "      <th>197</th>\n",
       "      <th>198</th>\n",
       "      <th>199</th>\n",
       "    </tr>\n",
       "  </thead>\n",
       "  <tbody>\n",
       "    <tr>\n",
       "      <th>0</th>\n",
       "      <td>0</td>\n",
       "      <td>0</td>\n",
       "      <td>0</td>\n",
       "      <td>0</td>\n",
       "      <td>0</td>\n",
       "      <td>0</td>\n",
       "      <td>0</td>\n",
       "      <td>0</td>\n",
       "      <td>0</td>\n",
       "      <td>0</td>\n",
       "      <td>...</td>\n",
       "      <td>98</td>\n",
       "      <td>26</td>\n",
       "      <td>1312</td>\n",
       "      <td>529</td>\n",
       "      <td>223</td>\n",
       "      <td>372</td>\n",
       "      <td>14</td>\n",
       "      <td>112</td>\n",
       "      <td>56</td>\n",
       "      <td>32</td>\n",
       "    </tr>\n",
       "    <tr>\n",
       "      <th>1</th>\n",
       "      <td>0</td>\n",
       "      <td>0</td>\n",
       "      <td>0</td>\n",
       "      <td>0</td>\n",
       "      <td>0</td>\n",
       "      <td>0</td>\n",
       "      <td>0</td>\n",
       "      <td>0</td>\n",
       "      <td>0</td>\n",
       "      <td>0</td>\n",
       "      <td>...</td>\n",
       "      <td>27</td>\n",
       "      <td>242</td>\n",
       "      <td>662</td>\n",
       "      <td>167</td>\n",
       "      <td>1160</td>\n",
       "      <td>1126</td>\n",
       "      <td>40</td>\n",
       "      <td>6956</td>\n",
       "      <td>1022</td>\n",
       "      <td>77</td>\n",
       "    </tr>\n",
       "    <tr>\n",
       "      <th>2</th>\n",
       "      <td>0</td>\n",
       "      <td>0</td>\n",
       "      <td>0</td>\n",
       "      <td>0</td>\n",
       "      <td>0</td>\n",
       "      <td>0</td>\n",
       "      <td>0</td>\n",
       "      <td>0</td>\n",
       "      <td>0</td>\n",
       "      <td>0</td>\n",
       "      <td>...</td>\n",
       "      <td>5829</td>\n",
       "      <td>28</td>\n",
       "      <td>27</td>\n",
       "      <td>131</td>\n",
       "      <td>815</td>\n",
       "      <td>31</td>\n",
       "      <td>57</td>\n",
       "      <td>3889</td>\n",
       "      <td>961</td>\n",
       "      <td>109</td>\n",
       "    </tr>\n",
       "    <tr>\n",
       "      <th>3</th>\n",
       "      <td>0</td>\n",
       "      <td>0</td>\n",
       "      <td>0</td>\n",
       "      <td>0</td>\n",
       "      <td>0</td>\n",
       "      <td>0</td>\n",
       "      <td>0</td>\n",
       "      <td>0</td>\n",
       "      <td>0</td>\n",
       "      <td>0</td>\n",
       "      <td>...</td>\n",
       "      <td>505</td>\n",
       "      <td>1212</td>\n",
       "      <td>12</td>\n",
       "      <td>197</td>\n",
       "      <td>21398</td>\n",
       "      <td>1566</td>\n",
       "      <td>783</td>\n",
       "      <td>83</td>\n",
       "      <td>7</td>\n",
       "      <td>443</td>\n",
       "    </tr>\n",
       "    <tr>\n",
       "      <th>4</th>\n",
       "      <td>0</td>\n",
       "      <td>0</td>\n",
       "      <td>0</td>\n",
       "      <td>0</td>\n",
       "      <td>0</td>\n",
       "      <td>0</td>\n",
       "      <td>0</td>\n",
       "      <td>0</td>\n",
       "      <td>0</td>\n",
       "      <td>0</td>\n",
       "      <td>...</td>\n",
       "      <td>5487</td>\n",
       "      <td>5</td>\n",
       "      <td>18</td>\n",
       "      <td>270</td>\n",
       "      <td>415</td>\n",
       "      <td>314</td>\n",
       "      <td>122</td>\n",
       "      <td>120</td>\n",
       "      <td>323</td>\n",
       "      <td>162</td>\n",
       "    </tr>\n",
       "  </tbody>\n",
       "</table>\n",
       "<p>5 rows × 200 columns</p>\n",
       "</div>\n",
       "      <button class=\"colab-df-convert\" onclick=\"convertToInteractive('df-0534cd33-bd67-46f1-a6bf-a1a7a0b9d044')\"\n",
       "              title=\"Convert this dataframe to an interactive table.\"\n",
       "              style=\"display:none;\">\n",
       "        \n",
       "  <svg xmlns=\"http://www.w3.org/2000/svg\" height=\"24px\"viewBox=\"0 0 24 24\"\n",
       "       width=\"24px\">\n",
       "    <path d=\"M0 0h24v24H0V0z\" fill=\"none\"/>\n",
       "    <path d=\"M18.56 5.44l.94 2.06.94-2.06 2.06-.94-2.06-.94-.94-2.06-.94 2.06-2.06.94zm-11 1L8.5 8.5l.94-2.06 2.06-.94-2.06-.94L8.5 2.5l-.94 2.06-2.06.94zm10 10l.94 2.06.94-2.06 2.06-.94-2.06-.94-.94-2.06-.94 2.06-2.06.94z\"/><path d=\"M17.41 7.96l-1.37-1.37c-.4-.4-.92-.59-1.43-.59-.52 0-1.04.2-1.43.59L10.3 9.45l-7.72 7.72c-.78.78-.78 2.05 0 2.83L4 21.41c.39.39.9.59 1.41.59.51 0 1.02-.2 1.41-.59l7.78-7.78 2.81-2.81c.8-.78.8-2.07 0-2.86zM5.41 20L4 18.59l7.72-7.72 1.47 1.35L5.41 20z\"/>\n",
       "  </svg>\n",
       "      </button>\n",
       "      \n",
       "  <style>\n",
       "    .colab-df-container {\n",
       "      display:flex;\n",
       "      flex-wrap:wrap;\n",
       "      gap: 12px;\n",
       "    }\n",
       "\n",
       "    .colab-df-convert {\n",
       "      background-color: #E8F0FE;\n",
       "      border: none;\n",
       "      border-radius: 50%;\n",
       "      cursor: pointer;\n",
       "      display: none;\n",
       "      fill: #1967D2;\n",
       "      height: 32px;\n",
       "      padding: 0 0 0 0;\n",
       "      width: 32px;\n",
       "    }\n",
       "\n",
       "    .colab-df-convert:hover {\n",
       "      background-color: #E2EBFA;\n",
       "      box-shadow: 0px 1px 2px rgba(60, 64, 67, 0.3), 0px 1px 3px 1px rgba(60, 64, 67, 0.15);\n",
       "      fill: #174EA6;\n",
       "    }\n",
       "\n",
       "    [theme=dark] .colab-df-convert {\n",
       "      background-color: #3B4455;\n",
       "      fill: #D2E3FC;\n",
       "    }\n",
       "\n",
       "    [theme=dark] .colab-df-convert:hover {\n",
       "      background-color: #434B5C;\n",
       "      box-shadow: 0px 1px 3px 1px rgba(0, 0, 0, 0.15);\n",
       "      filter: drop-shadow(0px 1px 2px rgba(0, 0, 0, 0.3));\n",
       "      fill: #FFFFFF;\n",
       "    }\n",
       "  </style>\n",
       "\n",
       "      <script>\n",
       "        const buttonEl =\n",
       "          document.querySelector('#df-0534cd33-bd67-46f1-a6bf-a1a7a0b9d044 button.colab-df-convert');\n",
       "        buttonEl.style.display =\n",
       "          google.colab.kernel.accessAllowed ? 'block' : 'none';\n",
       "\n",
       "        async function convertToInteractive(key) {\n",
       "          const element = document.querySelector('#df-0534cd33-bd67-46f1-a6bf-a1a7a0b9d044');\n",
       "          const dataTable =\n",
       "            await google.colab.kernel.invokeFunction('convertToInteractive',\n",
       "                                                     [key], {});\n",
       "          if (!dataTable) return;\n",
       "\n",
       "          const docLinkHtml = 'Like what you see? Visit the ' +\n",
       "            '<a target=\"_blank\" href=https://colab.research.google.com/notebooks/data_table.ipynb>data table notebook</a>'\n",
       "            + ' to learn more about interactive tables.';\n",
       "          element.innerHTML = '';\n",
       "          dataTable['output_type'] = 'display_data';\n",
       "          await google.colab.output.renderOutput(dataTable, element);\n",
       "          const docLink = document.createElement('div');\n",
       "          docLink.innerHTML = docLinkHtml;\n",
       "          element.appendChild(docLink);\n",
       "        }\n",
       "      </script>\n",
       "    </div>\n",
       "  </div>\n",
       "  "
      ],
      "text/plain": [
       "   0    1    2    3    4    5    6    7    8    9    ...   190   191   192  \\\n",
       "0    0    0    0    0    0    0    0    0    0    0  ...    98    26  1312   \n",
       "1    0    0    0    0    0    0    0    0    0    0  ...    27   242   662   \n",
       "2    0    0    0    0    0    0    0    0    0    0  ...  5829    28    27   \n",
       "3    0    0    0    0    0    0    0    0    0    0  ...   505  1212    12   \n",
       "4    0    0    0    0    0    0    0    0    0    0  ...  5487     5    18   \n",
       "\n",
       "   193    194   195  196   197   198  199  \n",
       "0  529    223   372   14   112    56   32  \n",
       "1  167   1160  1126   40  6956  1022   77  \n",
       "2  131    815    31   57  3889   961  109  \n",
       "3  197  21398  1566  783    83     7  443  \n",
       "4  270    415   314  122   120   323  162  \n",
       "\n",
       "[5 rows x 200 columns]"
      ]
     },
     "execution_count": 270,
     "metadata": {},
     "output_type": "execute_result"
    }
   ],
   "source": [
    "# train_padded = pd.DataFrame(X_train_padded)\n",
    "# test_padded = pd.DataFrame(X_test_padded)\n",
    "# pd.DataFrame(y_train).to_csv('/content/drive/MyDrive/AI_camp_data/Section4/project/y_train.csv', index =False)\n",
    "# pd.DataFrame(y_test).to_csv('/content/drive/MyDrive/AI_camp_data/Section4/project/y_test.csv', index =False)\n",
    "# train_padded.to_csv('/content/drive/MyDrive/AI_camp_data/Section4/project/train_padded.csv', index =False)\n",
    "# test_padded.to_csv('/content/drive/MyDrive/AI_camp_data/Section4/project/test_padded.csv', index =False)\n",
    "\n",
    "# train_padded.head()\n"
   ]
  },
  {
   "cell_type": "markdown",
   "metadata": {},
   "source": [
    "## 1. 추가적인 Dense층 없이 임베딩층과 LSTM 층만 쌓아서 모델링\n",
    "임베딩 차원: 300\n",
    "\n",
    "은닉층의 노드 갯수: 256\n",
    "\n",
    "활성화함수: sigmoid\n",
    "\n",
    "성능지표: accuracy\n",
    "\n",
    "손실함수: binary crossentropy\n",
    "\n",
    "옵티마이저: Adam"
   ]
  },
  {
   "cell_type": "code",
   "execution_count": null,
   "metadata": {
    "colab": {
     "base_uri": "https://localhost:8080/"
    },
    "id": "E8K_IiENLxPk",
    "outputId": "0c0c7a95-0455-4f52-d95a-19ee8c4a06cf"
   },
   "outputs": [
    {
     "name": "stdout",
     "output_type": "stream",
     "text": [
      "Epoch 1/100\n",
      "969/969 [==============================] - ETA: 0s - loss: 0.3007 - accuracy: 0.8636\n",
      "Epoch 1: val_accuracy improved from -inf to 0.88936, saving model to /content/drive/MyDrive/AI_camp_data/Section4/project/best_lstm_model_fifa.h5\n",
      "969/969 [==============================] - 107s 108ms/step - loss: 0.3007 - accuracy: 0.8636 - val_loss: 0.2471 - val_accuracy: 0.8894\n",
      "Epoch 2/100\n",
      "969/969 [==============================] - ETA: 0s - loss: 0.2255 - accuracy: 0.8970\n",
      "Epoch 2: val_accuracy did not improve from 0.88936\n",
      "969/969 [==============================] - 103s 107ms/step - loss: 0.2255 - accuracy: 0.8970 - val_loss: 0.2437 - val_accuracy: 0.8858\n",
      "Epoch 3/100\n",
      "969/969 [==============================] - ETA: 0s - loss: 0.1968 - accuracy: 0.9111\n",
      "Epoch 3: val_accuracy did not improve from 0.88936\n",
      "969/969 [==============================] - 106s 110ms/step - loss: 0.1968 - accuracy: 0.9111 - val_loss: 0.2499 - val_accuracy: 0.8812\n",
      "Epoch 4/100\n",
      "969/969 [==============================] - ETA: 0s - loss: 0.1669 - accuracy: 0.9276\n",
      "Epoch 4: val_accuracy did not improve from 0.88936\n",
      "969/969 [==============================] - 103s 106ms/step - loss: 0.1669 - accuracy: 0.9276 - val_loss: 0.2725 - val_accuracy: 0.8843\n",
      "Epoch 5/100\n",
      "969/969 [==============================] - ETA: 0s - loss: 0.1343 - accuracy: 0.9428\n",
      "Epoch 5: val_accuracy did not improve from 0.88936\n",
      "969/969 [==============================] - 104s 107ms/step - loss: 0.1343 - accuracy: 0.9428 - val_loss: 0.2981 - val_accuracy: 0.8807\n",
      "Epoch 6/100\n",
      "969/969 [==============================] - ETA: 0s - loss: 0.1048 - accuracy: 0.9567\n",
      "Epoch 6: val_accuracy did not improve from 0.88936\n",
      "969/969 [==============================] - 103s 106ms/step - loss: 0.1048 - accuracy: 0.9567 - val_loss: 0.3621 - val_accuracy: 0.8802\n",
      "Epoch 7/100\n",
      "969/969 [==============================] - ETA: 0s - loss: 0.0803 - accuracy: 0.9675\n",
      "Epoch 7: val_accuracy did not improve from 0.88936\n",
      "969/969 [==============================] - 103s 106ms/step - loss: 0.0803 - accuracy: 0.9675 - val_loss: 0.4043 - val_accuracy: 0.8751\n",
      "Epoch 7: early stopping\n"
     ]
    }
   ],
   "source": [
    "from tensorflow.keras.layers import Embedding, Dense, LSTM\n",
    "from tensorflow.keras.models import Sequential\n",
    "from tensorflow.keras.models import load_model\n",
    "from tensorflow.keras.callbacks import EarlyStopping, ModelCheckpoint\n",
    "from tensorflow.keras import regularizers\n",
    "from tensorflow.keras.layers import Dropout,BatchNormalization\n",
    "import tensorflow as tf\n",
    "\n",
    "np.random.seed(42)\n",
    "tf.random.set_seed(42)\n",
    "\n",
    "embedding_dim = 300\n",
    "hidden_units = 256\n",
    "\n",
    "model = Sequential()\n",
    "model.add(Embedding(vocab_size, embedding_dim)) # 임베딩층\n",
    "model.add(LSTM(hidden_units)) # LSTM\n",
    "model.add(Dense(1, activation='sigmoid'))\n",
    "\n",
    "es = EarlyStopping(monitor='val_loss', mode='min', verbose=1, patience=5)\n",
    "mc = ModelCheckpoint('/content/drive/MyDrive/AI_camp_data/Section4/project/best_lstm_model_fifa.h5', monitor='val_accuracy', mode='max', verbose=1, save_best_only=True)\n",
    "\n",
    "model.compile(optimizer='adam', loss='binary_crossentropy', metrics=['accuracy'])\n",
    "history = model.fit(X_train_padded, y_train, epochs=100, callbacks=[es, mc], batch_size=128, validation_split=0.2)"
   ]
  },
  {
   "cell_type": "code",
   "execution_count": null,
   "metadata": {
    "colab": {
     "base_uri": "https://localhost:8080/"
    },
    "id": "zUCQ_Bel_cT4",
    "outputId": "d8524d73-260a-408f-c50c-35c84f862543"
   },
   "outputs": [
    {
     "name": "stdout",
     "output_type": "stream",
     "text": [
      "4841/4841 [==============================] - 32s 6ms/step - loss: 0.2293 - accuracy: 0.8974\n",
      "\n",
      " 학습 정확도: 0.8974\n"
     ]
    }
   ],
   "source": [
    "loaded_model = load_model('/content/drive/MyDrive/AI_camp_data/Section4/project/best_lstm_model_fifa.h5')\n",
    "print(\"\\n 학습 정확도: %.4f\" % (loaded_model.evaluate(X_train_padded, y_train)[1]))"
   ]
  },
  {
   "cell_type": "code",
   "execution_count": null,
   "metadata": {
    "colab": {
     "base_uri": "https://localhost:8080/"
    },
    "id": "GYZ1krESX1rZ",
    "outputId": "2b50776a-8a3b-451a-cea2-ad8f76e434a2"
   },
   "outputs": [
    {
     "name": "stdout",
     "output_type": "stream",
     "text": [
      "1215/1215 [==============================] - 8s 6ms/step - loss: 0.2473 - accuracy: 0.8883\n",
      "\n",
      " 테스트 정확도: 0.8883\n"
     ]
    }
   ],
   "source": [
    "print(\"\\n 테스트 정확도: %.4f\" % (loaded_model.evaluate(X_test_padded, y_test)[1]))"
   ]
  },
  {
   "cell_type": "markdown",
   "metadata": {
    "id": "yzHg2jfg7tNj"
   },
   "source": [
    "## 하이퍼 파라미터 튜닝"
   ]
  },
  {
   "cell_type": "code",
   "execution_count": 8,
   "metadata": {
    "id": "b83M5M9Wg82T"
   },
   "outputs": [],
   "source": [
    "from tensorflow.keras.layers import Embedding, Dense, LSTM\n",
    "from tensorflow.keras.models import Sequential\n",
    "from tensorflow.keras.models import load_model\n",
    "from tensorflow.keras.callbacks import EarlyStopping, ModelCheckpoint\n",
    "from tensorflow.keras import regularizers\n",
    "from tensorflow.keras.layers import Dropout,BatchNormalization\n",
    "import tensorflow as tf\n",
    "from sklearn.model_selection import RandomizedSearchCV, GridSearchCV\n",
    "from tensorflow.keras.wrappers.scikit_learn import KerasClassifier"
   ]
  },
  {
   "cell_type": "code",
   "execution_count": 9,
   "metadata": {
    "id": "l_X-T8Ewg9Sh"
   },
   "outputs": [],
   "source": [
    "vocab_size = 27667"
   ]
  },
  {
   "cell_type": "code",
   "execution_count": 10,
   "metadata": {
    "colab": {
     "base_uri": "https://localhost:8080/",
     "height": 109
    },
    "id": "QEVJAcM-Innj",
    "outputId": "b92df0be-3e2b-4583-e85f-99dfaabd0fa8"
   },
   "outputs": [
    {
     "data": {
      "text/plain": [
       "array([  0,   0,   0,   0,   0,   0,   0,   0,   0,   0,   0,   0,   0,\n",
       "         0,   0,   0,   0,   0,   0,   0,   0,   0,   0,   0,   0,   0,\n",
       "         0,   0,   0,   0,   0,   0,   0,   0,   0,   0,   0,   0,   0,\n",
       "         0,   0,   0,   0,   0,   0, 243, 717, 956, 937, 375])"
      ]
     },
     "metadata": {},
     "output_type": "display_data"
    },
    {
     "data": {
      "text/plain": [
       "array([0, 0, 0, 0, 1, 0, 1, 0, 0, 0])"
      ]
     },
     "metadata": {},
     "output_type": "display_data"
    }
   ],
   "source": [
    "#패딩까지 해놓은 데이터 가져오기\n",
    "X_train_padded = pd.read_csv(f'{DATA_PATH}train_padded.csv')\n",
    "X_test_padded = pd.read_csv(f'{DATA_PATH}test_padded.csv')\n",
    "y_train = pd.read_csv(f'{DATA_PATH}y_train.csv')\n",
    "y_test = pd.read_csv(f'{DATA_PATH}y_test.csv')\n",
    "\n",
    "X_train_padded = X_train_padded.values\n",
    "X_test_padded = X_test_padded.values\n",
    "y_train = y_train['0'].values\n",
    "y_test = y_test['0'].values\n",
    "\n",
    "display(X_train_padded[0][100:150])\n",
    "display(y_train[:10])"
   ]
  },
  {
   "cell_type": "code",
   "execution_count": 6,
   "metadata": {
    "id": "4j0flv_OAZkS"
   },
   "outputs": [],
   "source": [
    "def make_model_rscv(units = 128, activation = 'relu', dropout_rate = 0.3, C = 0.01, optimizer = 'adam'):\n",
    "  embedding_dim = 300\n",
    "  hidden_units = 256\n",
    "  model = Sequential()\n",
    "  model.add(Embedding(vocab_size, embedding_dim)) # 임베딩층\n",
    "  model.add(Dense(units, activation = activation))\n",
    "  model.add(BatchNormalization())\n",
    "  model.add(Dense(256, activation = 'relu'))\n",
    "  model.add(BatchNormalization())\n",
    "  model.add(Dropout(dropout_rate))\n",
    "  model.add(Dense(128, activation = 'relu',\n",
    "            kernel_regularizer = regularizers.l2(C),\n",
    "            activity_regularizer = regularizers.l1(C)))\n",
    "  model.add(BatchNormalization())\n",
    "  model.add(LSTM(hidden_units)) # LSTM\n",
    "  model.add(Dense(1, activation = 'sigmoid'))\n",
    "\n",
    "  model.compile(optimizer=optimizer, loss='binary_crossentropy', metrics=['accuracy'])  \n",
    "\n",
    "  return model"
   ]
  },
  {
   "cell_type": "code",
   "execution_count": 7,
   "metadata": {
    "colab": {
     "base_uri": "https://localhost:8080/"
    },
    "id": "6h5choVFBkgi",
    "outputId": "13b30544-5ae4-41de-b741-ddd847fd11ed"
   },
   "outputs": [
    {
     "name": "stderr",
     "output_type": "stream",
     "text": [
      "/usr/local/lib/python3.7/dist-packages/ipykernel_launcher.py:18: DeprecationWarning: KerasClassifier is deprecated, use Sci-Keras (https://github.com/adriangb/scikeras) instead. See https://www.adriangb.com/scikeras/stable/migration.html for help migrating.\n"
     ]
    }
   ],
   "source": [
    "from sklearn.model_selection import RandomizedSearchCV\n",
    "from tensorflow.keras.wrappers.scikit_learn import KerasClassifier\n",
    "\n",
    "np.random.seed(42)\n",
    "tf.random.set_seed(42)\n",
    "\n",
    "units = np.arange(32,512,32)\n",
    "epochs = [5,10,20,25]\n",
    "batch_size = [32,64,128,256]\n",
    "activation = ['relu', 'sigmoid']\n",
    "optimizer = ['adam', 'adagrad', 'rmsprop']\n",
    "dropout_rate = [0.2,0.3,0.4,0.5]\n",
    "C = [0.01,0.1,1]\n",
    "\n",
    "param_grid = dict(batch_size = batch_size, units = units, activation = activation, optimizer = optimizer, dropout_rate = dropout_rate, C = C, epochs = epochs)\n",
    "es = EarlyStopping(monitor='loss', mode='min', verbose=1, patience=3)\n",
    "\n",
    "model_rscv = KerasClassifier(build_fn=make_model_rscv, verbose=0, callbacks = [es])"
   ]
  },
  {
   "cell_type": "code",
   "execution_count": 9,
   "metadata": {
    "colab": {
     "base_uri": "https://localhost:8080/"
    },
    "id": "V0Wdt4jEB2NS",
    "outputId": "97c6fe7f-df04-4f1f-f2fa-2e5410149b1e"
   },
   "outputs": [
    {
     "name": "stdout",
     "output_type": "stream",
     "text": [
      "Fitting 2 folds for each of 5 candidates, totalling 10 fits\n",
      "Epoch 12: early stopping\n",
      "[CV 1/2] END C=1, activation=sigmoid, batch_size=64, dropout_rate=0.4, epochs=20, optimizer=adam, units=160;, score=0.778 total time= 8.7min\n",
      "Epoch 13: early stopping\n",
      "[CV 2/2] END C=1, activation=sigmoid, batch_size=64, dropout_rate=0.4, epochs=20, optimizer=adam, units=160;, score=0.780 total time= 8.8min\n",
      "[CV 1/2] END C=1, activation=sigmoid, batch_size=128, dropout_rate=0.4, epochs=20, optimizer=adam, units=64;, score=0.778 total time= 9.8min\n",
      "Epoch 11: early stopping\n",
      "[CV 2/2] END C=1, activation=sigmoid, batch_size=128, dropout_rate=0.4, epochs=20, optimizer=adam, units=64;, score=0.780 total time= 5.5min\n",
      "[CV 1/2] END C=0.01, activation=relu, batch_size=128, dropout_rate=0.4, epochs=5, optimizer=rmsprop, units=224;, score=0.857 total time= 3.0min\n",
      "[CV 2/2] END C=0.01, activation=relu, batch_size=128, dropout_rate=0.4, epochs=5, optimizer=rmsprop, units=224;, score=0.846 total time= 2.9min\n",
      "[CV 1/2] END C=1, activation=relu, batch_size=32, dropout_rate=0.2, epochs=5, optimizer=rmsprop, units=32;, score=0.778 total time= 4.0min\n",
      "[CV 2/2] END C=1, activation=relu, batch_size=32, dropout_rate=0.2, epochs=5, optimizer=rmsprop, units=32;, score=0.780 total time= 3.9min\n",
      "[CV 1/2] END C=0.1, activation=sigmoid, batch_size=256, dropout_rate=0.4, epochs=5, optimizer=rmsprop, units=160;, score=0.778 total time= 2.8min\n",
      "[CV 2/2] END C=0.1, activation=sigmoid, batch_size=256, dropout_rate=0.4, epochs=5, optimizer=rmsprop, units=160;, score=0.780 total time= 2.5min\n"
     ]
    }
   ],
   "source": [
    "rscv = RandomizedSearchCV(\n",
    "    estimator=model_rscv,\n",
    "    param_distributions=param_grid,\n",
    "    n_iter=5,\n",
    "    cv=2,\n",
    "    scoring='accuracy',\n",
    "    verbose=3,\n",
    "    n_jobs=1,\n",
    "    random_state=42)\n",
    "\n",
    "rscv_result = rscv.fit(X_train_padded, y_train)"
   ]
  },
  {
   "cell_type": "code",
   "execution_count": 10,
   "metadata": {
    "colab": {
     "base_uri": "https://localhost:8080/",
     "height": 582
    },
    "id": "h6NpH1-2B-Gb",
    "outputId": "295ceaf4-6034-4b84-f8fe-5eee82d08d1d"
   },
   "outputs": [
    {
     "data": {
      "text/html": [
       "\n",
       "  <div id=\"df-6954bdb1-c651-4f33-95c9-33a7ef79074a\">\n",
       "    <div class=\"colab-df-container\">\n",
       "      <div>\n",
       "<style scoped>\n",
       "    .dataframe tbody tr th:only-of-type {\n",
       "        vertical-align: middle;\n",
       "    }\n",
       "\n",
       "    .dataframe tbody tr th {\n",
       "        vertical-align: top;\n",
       "    }\n",
       "\n",
       "    .dataframe thead th {\n",
       "        text-align: right;\n",
       "    }\n",
       "</style>\n",
       "<table border=\"1\" class=\"dataframe\">\n",
       "  <thead>\n",
       "    <tr style=\"text-align: right;\">\n",
       "      <th></th>\n",
       "      <th>2</th>\n",
       "      <th>0</th>\n",
       "      <th>1</th>\n",
       "      <th>3</th>\n",
       "      <th>4</th>\n",
       "    </tr>\n",
       "  </thead>\n",
       "  <tbody>\n",
       "    <tr>\n",
       "      <th>mean_fit_time</th>\n",
       "      <td>157.171974</td>\n",
       "      <td>468.185427</td>\n",
       "      <td>438.079422</td>\n",
       "      <td>220.838607</td>\n",
       "      <td>138.492929</td>\n",
       "    </tr>\n",
       "    <tr>\n",
       "      <th>std_fit_time</th>\n",
       "      <td>0.130579</td>\n",
       "      <td>18.585254</td>\n",
       "      <td>126.74288</td>\n",
       "      <td>0.030099</td>\n",
       "      <td>7.001408</td>\n",
       "    </tr>\n",
       "    <tr>\n",
       "      <th>mean_score_time</th>\n",
       "      <td>19.060461</td>\n",
       "      <td>55.635685</td>\n",
       "      <td>18.684145</td>\n",
       "      <td>18.412591</td>\n",
       "      <td>18.701125</td>\n",
       "    </tr>\n",
       "    <tr>\n",
       "      <th>std_score_time</th>\n",
       "      <td>1.917653</td>\n",
       "      <td>16.454812</td>\n",
       "      <td>2.343133</td>\n",
       "      <td>2.566958</td>\n",
       "      <td>2.261585</td>\n",
       "    </tr>\n",
       "    <tr>\n",
       "      <th>param_units</th>\n",
       "      <td>224</td>\n",
       "      <td>160</td>\n",
       "      <td>64</td>\n",
       "      <td>32</td>\n",
       "      <td>160</td>\n",
       "    </tr>\n",
       "    <tr>\n",
       "      <th>param_optimizer</th>\n",
       "      <td>rmsprop</td>\n",
       "      <td>adam</td>\n",
       "      <td>adam</td>\n",
       "      <td>rmsprop</td>\n",
       "      <td>rmsprop</td>\n",
       "    </tr>\n",
       "    <tr>\n",
       "      <th>param_epochs</th>\n",
       "      <td>5</td>\n",
       "      <td>20</td>\n",
       "      <td>20</td>\n",
       "      <td>5</td>\n",
       "      <td>5</td>\n",
       "    </tr>\n",
       "    <tr>\n",
       "      <th>param_dropout_rate</th>\n",
       "      <td>0.4</td>\n",
       "      <td>0.4</td>\n",
       "      <td>0.4</td>\n",
       "      <td>0.2</td>\n",
       "      <td>0.4</td>\n",
       "    </tr>\n",
       "    <tr>\n",
       "      <th>param_batch_size</th>\n",
       "      <td>128</td>\n",
       "      <td>64</td>\n",
       "      <td>128</td>\n",
       "      <td>32</td>\n",
       "      <td>256</td>\n",
       "    </tr>\n",
       "    <tr>\n",
       "      <th>param_activation</th>\n",
       "      <td>relu</td>\n",
       "      <td>sigmoid</td>\n",
       "      <td>sigmoid</td>\n",
       "      <td>relu</td>\n",
       "      <td>sigmoid</td>\n",
       "    </tr>\n",
       "    <tr>\n",
       "      <th>param_C</th>\n",
       "      <td>0.01</td>\n",
       "      <td>1</td>\n",
       "      <td>1</td>\n",
       "      <td>1</td>\n",
       "      <td>0.1</td>\n",
       "    </tr>\n",
       "    <tr>\n",
       "      <th>params</th>\n",
       "      <td>{'units': 224, 'optimizer': 'rmsprop', 'epochs...</td>\n",
       "      <td>{'units': 160, 'optimizer': 'adam', 'epochs': ...</td>\n",
       "      <td>{'units': 64, 'optimizer': 'adam', 'epochs': 2...</td>\n",
       "      <td>{'units': 32, 'optimizer': 'rmsprop', 'epochs'...</td>\n",
       "      <td>{'units': 160, 'optimizer': 'rmsprop', 'epochs...</td>\n",
       "    </tr>\n",
       "    <tr>\n",
       "      <th>split0_test_score</th>\n",
       "      <td>0.857248</td>\n",
       "      <td>0.77821</td>\n",
       "      <td>0.77821</td>\n",
       "      <td>0.77821</td>\n",
       "      <td>0.77821</td>\n",
       "    </tr>\n",
       "    <tr>\n",
       "      <th>split1_test_score</th>\n",
       "      <td>0.845975</td>\n",
       "      <td>0.779549</td>\n",
       "      <td>0.779549</td>\n",
       "      <td>0.779549</td>\n",
       "      <td>0.779549</td>\n",
       "    </tr>\n",
       "    <tr>\n",
       "      <th>mean_test_score</th>\n",
       "      <td>0.851612</td>\n",
       "      <td>0.778879</td>\n",
       "      <td>0.778879</td>\n",
       "      <td>0.778879</td>\n",
       "      <td>0.778879</td>\n",
       "    </tr>\n",
       "    <tr>\n",
       "      <th>std_test_score</th>\n",
       "      <td>0.005636</td>\n",
       "      <td>0.00067</td>\n",
       "      <td>0.00067</td>\n",
       "      <td>0.00067</td>\n",
       "      <td>0.00067</td>\n",
       "    </tr>\n",
       "    <tr>\n",
       "      <th>rank_test_score</th>\n",
       "      <td>1</td>\n",
       "      <td>2</td>\n",
       "      <td>2</td>\n",
       "      <td>2</td>\n",
       "      <td>2</td>\n",
       "    </tr>\n",
       "  </tbody>\n",
       "</table>\n",
       "</div>\n",
       "      <button class=\"colab-df-convert\" onclick=\"convertToInteractive('df-6954bdb1-c651-4f33-95c9-33a7ef79074a')\"\n",
       "              title=\"Convert this dataframe to an interactive table.\"\n",
       "              style=\"display:none;\">\n",
       "        \n",
       "  <svg xmlns=\"http://www.w3.org/2000/svg\" height=\"24px\"viewBox=\"0 0 24 24\"\n",
       "       width=\"24px\">\n",
       "    <path d=\"M0 0h24v24H0V0z\" fill=\"none\"/>\n",
       "    <path d=\"M18.56 5.44l.94 2.06.94-2.06 2.06-.94-2.06-.94-.94-2.06-.94 2.06-2.06.94zm-11 1L8.5 8.5l.94-2.06 2.06-.94-2.06-.94L8.5 2.5l-.94 2.06-2.06.94zm10 10l.94 2.06.94-2.06 2.06-.94-2.06-.94-.94-2.06-.94 2.06-2.06.94z\"/><path d=\"M17.41 7.96l-1.37-1.37c-.4-.4-.92-.59-1.43-.59-.52 0-1.04.2-1.43.59L10.3 9.45l-7.72 7.72c-.78.78-.78 2.05 0 2.83L4 21.41c.39.39.9.59 1.41.59.51 0 1.02-.2 1.41-.59l7.78-7.78 2.81-2.81c.8-.78.8-2.07 0-2.86zM5.41 20L4 18.59l7.72-7.72 1.47 1.35L5.41 20z\"/>\n",
       "  </svg>\n",
       "      </button>\n",
       "      \n",
       "  <style>\n",
       "    .colab-df-container {\n",
       "      display:flex;\n",
       "      flex-wrap:wrap;\n",
       "      gap: 12px;\n",
       "    }\n",
       "\n",
       "    .colab-df-convert {\n",
       "      background-color: #E8F0FE;\n",
       "      border: none;\n",
       "      border-radius: 50%;\n",
       "      cursor: pointer;\n",
       "      display: none;\n",
       "      fill: #1967D2;\n",
       "      height: 32px;\n",
       "      padding: 0 0 0 0;\n",
       "      width: 32px;\n",
       "    }\n",
       "\n",
       "    .colab-df-convert:hover {\n",
       "      background-color: #E2EBFA;\n",
       "      box-shadow: 0px 1px 2px rgba(60, 64, 67, 0.3), 0px 1px 3px 1px rgba(60, 64, 67, 0.15);\n",
       "      fill: #174EA6;\n",
       "    }\n",
       "\n",
       "    [theme=dark] .colab-df-convert {\n",
       "      background-color: #3B4455;\n",
       "      fill: #D2E3FC;\n",
       "    }\n",
       "\n",
       "    [theme=dark] .colab-df-convert:hover {\n",
       "      background-color: #434B5C;\n",
       "      box-shadow: 0px 1px 3px 1px rgba(0, 0, 0, 0.15);\n",
       "      filter: drop-shadow(0px 1px 2px rgba(0, 0, 0, 0.3));\n",
       "      fill: #FFFFFF;\n",
       "    }\n",
       "  </style>\n",
       "\n",
       "      <script>\n",
       "        const buttonEl =\n",
       "          document.querySelector('#df-6954bdb1-c651-4f33-95c9-33a7ef79074a button.colab-df-convert');\n",
       "        buttonEl.style.display =\n",
       "          google.colab.kernel.accessAllowed ? 'block' : 'none';\n",
       "\n",
       "        async function convertToInteractive(key) {\n",
       "          const element = document.querySelector('#df-6954bdb1-c651-4f33-95c9-33a7ef79074a');\n",
       "          const dataTable =\n",
       "            await google.colab.kernel.invokeFunction('convertToInteractive',\n",
       "                                                     [key], {});\n",
       "          if (!dataTable) return;\n",
       "\n",
       "          const docLinkHtml = 'Like what you see? Visit the ' +\n",
       "            '<a target=\"_blank\" href=https://colab.research.google.com/notebooks/data_table.ipynb>data table notebook</a>'\n",
       "            + ' to learn more about interactive tables.';\n",
       "          element.innerHTML = '';\n",
       "          dataTable['output_type'] = 'display_data';\n",
       "          await google.colab.output.renderOutput(dataTable, element);\n",
       "          const docLink = document.createElement('div');\n",
       "          docLink.innerHTML = docLinkHtml;\n",
       "          element.appendChild(docLink);\n",
       "        }\n",
       "      </script>\n",
       "    </div>\n",
       "  </div>\n",
       "  "
      ],
      "text/plain": [
       "                                                                    2  \\\n",
       "mean_fit_time                                              157.171974   \n",
       "std_fit_time                                                 0.130579   \n",
       "mean_score_time                                             19.060461   \n",
       "std_score_time                                               1.917653   \n",
       "param_units                                                       224   \n",
       "param_optimizer                                               rmsprop   \n",
       "param_epochs                                                        5   \n",
       "param_dropout_rate                                                0.4   \n",
       "param_batch_size                                                  128   \n",
       "param_activation                                                 relu   \n",
       "param_C                                                          0.01   \n",
       "params              {'units': 224, 'optimizer': 'rmsprop', 'epochs...   \n",
       "split0_test_score                                            0.857248   \n",
       "split1_test_score                                            0.845975   \n",
       "mean_test_score                                              0.851612   \n",
       "std_test_score                                               0.005636   \n",
       "rank_test_score                                                     1   \n",
       "\n",
       "                                                                    0  \\\n",
       "mean_fit_time                                              468.185427   \n",
       "std_fit_time                                                18.585254   \n",
       "mean_score_time                                             55.635685   \n",
       "std_score_time                                              16.454812   \n",
       "param_units                                                       160   \n",
       "param_optimizer                                                  adam   \n",
       "param_epochs                                                       20   \n",
       "param_dropout_rate                                                0.4   \n",
       "param_batch_size                                                   64   \n",
       "param_activation                                              sigmoid   \n",
       "param_C                                                             1   \n",
       "params              {'units': 160, 'optimizer': 'adam', 'epochs': ...   \n",
       "split0_test_score                                             0.77821   \n",
       "split1_test_score                                            0.779549   \n",
       "mean_test_score                                              0.778879   \n",
       "std_test_score                                                0.00067   \n",
       "rank_test_score                                                     2   \n",
       "\n",
       "                                                                    1  \\\n",
       "mean_fit_time                                              438.079422   \n",
       "std_fit_time                                                126.74288   \n",
       "mean_score_time                                             18.684145   \n",
       "std_score_time                                               2.343133   \n",
       "param_units                                                        64   \n",
       "param_optimizer                                                  adam   \n",
       "param_epochs                                                       20   \n",
       "param_dropout_rate                                                0.4   \n",
       "param_batch_size                                                  128   \n",
       "param_activation                                              sigmoid   \n",
       "param_C                                                             1   \n",
       "params              {'units': 64, 'optimizer': 'adam', 'epochs': 2...   \n",
       "split0_test_score                                             0.77821   \n",
       "split1_test_score                                            0.779549   \n",
       "mean_test_score                                              0.778879   \n",
       "std_test_score                                                0.00067   \n",
       "rank_test_score                                                     2   \n",
       "\n",
       "                                                                    3  \\\n",
       "mean_fit_time                                              220.838607   \n",
       "std_fit_time                                                 0.030099   \n",
       "mean_score_time                                             18.412591   \n",
       "std_score_time                                               2.566958   \n",
       "param_units                                                        32   \n",
       "param_optimizer                                               rmsprop   \n",
       "param_epochs                                                        5   \n",
       "param_dropout_rate                                                0.2   \n",
       "param_batch_size                                                   32   \n",
       "param_activation                                                 relu   \n",
       "param_C                                                             1   \n",
       "params              {'units': 32, 'optimizer': 'rmsprop', 'epochs'...   \n",
       "split0_test_score                                             0.77821   \n",
       "split1_test_score                                            0.779549   \n",
       "mean_test_score                                              0.778879   \n",
       "std_test_score                                                0.00067   \n",
       "rank_test_score                                                     2   \n",
       "\n",
       "                                                                    4  \n",
       "mean_fit_time                                              138.492929  \n",
       "std_fit_time                                                 7.001408  \n",
       "mean_score_time                                             18.701125  \n",
       "std_score_time                                               2.261585  \n",
       "param_units                                                       160  \n",
       "param_optimizer                                               rmsprop  \n",
       "param_epochs                                                        5  \n",
       "param_dropout_rate                                                0.4  \n",
       "param_batch_size                                                  256  \n",
       "param_activation                                              sigmoid  \n",
       "param_C                                                           0.1  \n",
       "params              {'units': 160, 'optimizer': 'rmsprop', 'epochs...  \n",
       "split0_test_score                                             0.77821  \n",
       "split1_test_score                                            0.779549  \n",
       "mean_test_score                                              0.778879  \n",
       "std_test_score                                                0.00067  \n",
       "rank_test_score                                                     2  "
      ]
     },
     "execution_count": 10,
     "metadata": {},
     "output_type": "execute_result"
    }
   ],
   "source": [
    "rs = pd.DataFrame(rscv_result.cv_results_).sort_values(by='rank_test_score').head()\n",
    "rs.T"
   ]
  },
  {
   "cell_type": "code",
   "execution_count": 11,
   "metadata": {
    "colab": {
     "base_uri": "https://localhost:8080/"
    },
    "id": "pQ8El6pACCAR",
    "outputId": "f93cb52f-d433-4bf9-b648-c736e89ea542"
   },
   "outputs": [
    {
     "name": "stdout",
     "output_type": "stream",
     "text": [
      "Best: 0.8516115341295852 using {'units': 224, 'optimizer': 'rmsprop', 'epochs': 5, 'dropout_rate': 0.4, 'batch_size': 128, 'activation': 'relu', 'C': 0.01}\n"
     ]
    }
   ],
   "source": [
    "print(f\"Best: {rscv_result.best_score_} using {rscv_result.best_params_}\")"
   ]
  },
  {
   "cell_type": "markdown",
   "metadata": {
    "id": "eyBKFLyxwlQi"
   },
   "source": [
    "### 오히려 성능이 떨어짐.\n",
    "### 규제와 Dropout를 없애고, 몇몇 하이퍼 파라미터는 수동으로 조절해보자.\n",
    "### 결론: 성능 올라감."
   ]
  },
  {
   "cell_type": "code",
   "execution_count": 12,
   "metadata": {
    "id": "fzdOin1Vwn_z"
   },
   "outputs": [],
   "source": [
    "def make_model_rscv2(units = 128, activation = 'relu', optimizer = 'adam'):\n",
    "  embedding_dim = 300\n",
    "  model = Sequential()\n",
    "  model.add(Embedding(vocab_size, embedding_dim)) # 임베딩층\n",
    "  model.add(Dense(units, activation = activation, kernel_initializer='he_normal')) # he 가중치 초기화\n",
    "  model.add(BatchNormalization())\n",
    "  model.add(LSTM(units)) # LSTM\n",
    "  model.add(Dense(1, activation = 'sigmoid'))\n",
    "\n",
    "  model.compile(optimizer=optimizer, loss='binary_crossentropy', metrics=['accuracy'])  \n",
    "\n",
    "  return model"
   ]
  },
  {
   "cell_type": "code",
   "execution_count": 18,
   "metadata": {
    "colab": {
     "base_uri": "https://localhost:8080/"
    },
    "id": "W5ybXNGZK5r1",
    "outputId": "6cb5c71b-cb87-4c75-f059-986a4d28b4bb"
   },
   "outputs": [
    {
     "name": "stderr",
     "output_type": "stream",
     "text": [
      "<ipython-input-18-06d656721611>:13: DeprecationWarning: KerasClassifier is deprecated, use Sci-Keras (https://github.com/adriangb/scikeras) instead. See https://www.adriangb.com/scikeras/stable/migration.html for help migrating.\n",
      "  model_rscv = KerasClassifier(build_fn=make_model_rscv2, verbose=0, callbacks = [es])\n"
     ]
    }
   ],
   "source": [
    "np.random.seed(42)\n",
    "tf.random.set_seed(42)\n",
    "\n",
    "units = np.arange(32,256,32)\n",
    "epochs = [10,20,25]\n",
    "batch_size = [32,64,128,256]\n",
    "activation = ['relu', 'sigmoid', 'tanh']\n",
    "optimizer = ['adam', 'adagrad', 'rmsprop']\n",
    "\n",
    "param_grid = dict(batch_size = batch_size, units = units, activation = activation, optimizer = optimizer, epochs = epochs)\n",
    "es = EarlyStopping(monitor='loss', mode='min', verbose=1, patience=3)\n",
    "\n",
    "model_rscv = KerasClassifier(build_fn=make_model_rscv2, verbose=0, callbacks = [es])"
   ]
  },
  {
   "cell_type": "code",
   "execution_count": 37,
   "metadata": {
    "colab": {
     "base_uri": "https://localhost:8080/"
    },
    "id": "rHW40hjSDZbY",
    "outputId": "19e7db2c-9eb0-4124-97d7-48c7f204587c"
   },
   "outputs": [
    {
     "name": "stdout",
     "output_type": "stream",
     "text": [
      "Fitting 2 folds for each of 5 candidates, totalling 10 fits\n"
     ]
    },
    {
     "name": "stderr",
     "output_type": "stream",
     "text": [
      "[Parallel(n_jobs=2)]: Using backend LokyBackend with 2 concurrent workers.\n",
      "[Parallel(n_jobs=2)]: Done  10 out of  10 | elapsed:   53.8s finished\n"
     ]
    },
    {
     "name": "stdout",
     "output_type": "stream",
     "text": [
      "1269.1228284835815\n"
     ]
    }
   ],
   "source": [
    "start = time.time()\n",
    "with tf.device('/GPU:0'):\n",
    "    rscv = RandomizedSearchCV(\n",
    "        estimator=model_rscv,\n",
    "        param_distributions=param_grid,\n",
    "        n_iter=5,\n",
    "        cv=2,\n",
    "        scoring='accuracy',\n",
    "        verbose=1,\n",
    "        n_jobs=2,\n",
    "        random_state=42)\n",
    "\n",
    "    rscv_result = rscv.fit(X_train_padded, y_train)\n",
    "\n",
    "print((time.time() - start)/60)"
   ]
  },
  {
   "cell_type": "code",
   "execution_count": 38,
   "metadata": {
    "id": "icTw3t8VLt6Z"
   },
   "outputs": [
    {
     "data": {
      "text/html": [
       "<div>\n",
       "<style scoped>\n",
       "    .dataframe tbody tr th:only-of-type {\n",
       "        vertical-align: middle;\n",
       "    }\n",
       "\n",
       "    .dataframe tbody tr th {\n",
       "        vertical-align: top;\n",
       "    }\n",
       "\n",
       "    .dataframe thead th {\n",
       "        text-align: right;\n",
       "    }\n",
       "</style>\n",
       "<table border=\"1\" class=\"dataframe\">\n",
       "  <thead>\n",
       "    <tr style=\"text-align: right;\">\n",
       "      <th></th>\n",
       "      <th>0</th>\n",
       "      <th>1</th>\n",
       "      <th>2</th>\n",
       "      <th>3</th>\n",
       "      <th>4</th>\n",
       "    </tr>\n",
       "  </thead>\n",
       "  <tbody>\n",
       "    <tr>\n",
       "      <th>mean_fit_time</th>\n",
       "      <td>11.1502</td>\n",
       "      <td>10.1924</td>\n",
       "      <td>10.2126</td>\n",
       "      <td>10.1961</td>\n",
       "      <td>10.196</td>\n",
       "    </tr>\n",
       "    <tr>\n",
       "      <th>std_fit_time</th>\n",
       "      <td>0.00711405</td>\n",
       "      <td>0.00508225</td>\n",
       "      <td>0.00756729</td>\n",
       "      <td>0.00314295</td>\n",
       "      <td>0.00346446</td>\n",
       "    </tr>\n",
       "    <tr>\n",
       "      <th>mean_score_time</th>\n",
       "      <td>0</td>\n",
       "      <td>0</td>\n",
       "      <td>0</td>\n",
       "      <td>0</td>\n",
       "      <td>0</td>\n",
       "    </tr>\n",
       "    <tr>\n",
       "      <th>std_score_time</th>\n",
       "      <td>0</td>\n",
       "      <td>0</td>\n",
       "      <td>0</td>\n",
       "      <td>0</td>\n",
       "      <td>0</td>\n",
       "    </tr>\n",
       "    <tr>\n",
       "      <th>param_units</th>\n",
       "      <td>160</td>\n",
       "      <td>64</td>\n",
       "      <td>160</td>\n",
       "      <td>64</td>\n",
       "      <td>64</td>\n",
       "    </tr>\n",
       "    <tr>\n",
       "      <th>param_optimizer</th>\n",
       "      <td>rmsprop</td>\n",
       "      <td>rmsprop</td>\n",
       "      <td>rmsprop</td>\n",
       "      <td>adam</td>\n",
       "      <td>adagrad</td>\n",
       "    </tr>\n",
       "    <tr>\n",
       "      <th>param_epochs</th>\n",
       "      <td>20</td>\n",
       "      <td>25</td>\n",
       "      <td>10</td>\n",
       "      <td>25</td>\n",
       "      <td>10</td>\n",
       "    </tr>\n",
       "    <tr>\n",
       "      <th>param_batch_size</th>\n",
       "      <td>64</td>\n",
       "      <td>128</td>\n",
       "      <td>32</td>\n",
       "      <td>64</td>\n",
       "      <td>64</td>\n",
       "    </tr>\n",
       "    <tr>\n",
       "      <th>param_activation</th>\n",
       "      <td>relu</td>\n",
       "      <td>sigmoid</td>\n",
       "      <td>sigmoid</td>\n",
       "      <td>relu</td>\n",
       "      <td>relu</td>\n",
       "    </tr>\n",
       "    <tr>\n",
       "      <th>params</th>\n",
       "      <td>{'units': 160, 'optimizer': 'rmsprop', 'epochs...</td>\n",
       "      <td>{'units': 64, 'optimizer': 'rmsprop', 'epochs'...</td>\n",
       "      <td>{'units': 160, 'optimizer': 'rmsprop', 'epochs...</td>\n",
       "      <td>{'units': 64, 'optimizer': 'adam', 'epochs': 2...</td>\n",
       "      <td>{'units': 64, 'optimizer': 'adagrad', 'epochs'...</td>\n",
       "    </tr>\n",
       "    <tr>\n",
       "      <th>split0_test_score</th>\n",
       "      <td>NaN</td>\n",
       "      <td>NaN</td>\n",
       "      <td>NaN</td>\n",
       "      <td>NaN</td>\n",
       "      <td>NaN</td>\n",
       "    </tr>\n",
       "    <tr>\n",
       "      <th>split1_test_score</th>\n",
       "      <td>NaN</td>\n",
       "      <td>NaN</td>\n",
       "      <td>NaN</td>\n",
       "      <td>NaN</td>\n",
       "      <td>NaN</td>\n",
       "    </tr>\n",
       "    <tr>\n",
       "      <th>mean_test_score</th>\n",
       "      <td>NaN</td>\n",
       "      <td>NaN</td>\n",
       "      <td>NaN</td>\n",
       "      <td>NaN</td>\n",
       "      <td>NaN</td>\n",
       "    </tr>\n",
       "    <tr>\n",
       "      <th>std_test_score</th>\n",
       "      <td>NaN</td>\n",
       "      <td>NaN</td>\n",
       "      <td>NaN</td>\n",
       "      <td>NaN</td>\n",
       "      <td>NaN</td>\n",
       "    </tr>\n",
       "    <tr>\n",
       "      <th>rank_test_score</th>\n",
       "      <td>1</td>\n",
       "      <td>2</td>\n",
       "      <td>3</td>\n",
       "      <td>4</td>\n",
       "      <td>5</td>\n",
       "    </tr>\n",
       "  </tbody>\n",
       "</table>\n",
       "</div>"
      ],
      "text/plain": [
       "                                                                   0  \\\n",
       "mean_fit_time                                                11.1502   \n",
       "std_fit_time                                              0.00711405   \n",
       "mean_score_time                                                    0   \n",
       "std_score_time                                                     0   \n",
       "param_units                                                      160   \n",
       "param_optimizer                                              rmsprop   \n",
       "param_epochs                                                      20   \n",
       "param_batch_size                                                  64   \n",
       "param_activation                                                relu   \n",
       "params             {'units': 160, 'optimizer': 'rmsprop', 'epochs...   \n",
       "split0_test_score                                                NaN   \n",
       "split1_test_score                                                NaN   \n",
       "mean_test_score                                                  NaN   \n",
       "std_test_score                                                   NaN   \n",
       "rank_test_score                                                    1   \n",
       "\n",
       "                                                                   1  \\\n",
       "mean_fit_time                                                10.1924   \n",
       "std_fit_time                                              0.00508225   \n",
       "mean_score_time                                                    0   \n",
       "std_score_time                                                     0   \n",
       "param_units                                                       64   \n",
       "param_optimizer                                              rmsprop   \n",
       "param_epochs                                                      25   \n",
       "param_batch_size                                                 128   \n",
       "param_activation                                             sigmoid   \n",
       "params             {'units': 64, 'optimizer': 'rmsprop', 'epochs'...   \n",
       "split0_test_score                                                NaN   \n",
       "split1_test_score                                                NaN   \n",
       "mean_test_score                                                  NaN   \n",
       "std_test_score                                                   NaN   \n",
       "rank_test_score                                                    2   \n",
       "\n",
       "                                                                   2  \\\n",
       "mean_fit_time                                                10.2126   \n",
       "std_fit_time                                              0.00756729   \n",
       "mean_score_time                                                    0   \n",
       "std_score_time                                                     0   \n",
       "param_units                                                      160   \n",
       "param_optimizer                                              rmsprop   \n",
       "param_epochs                                                      10   \n",
       "param_batch_size                                                  32   \n",
       "param_activation                                             sigmoid   \n",
       "params             {'units': 160, 'optimizer': 'rmsprop', 'epochs...   \n",
       "split0_test_score                                                NaN   \n",
       "split1_test_score                                                NaN   \n",
       "mean_test_score                                                  NaN   \n",
       "std_test_score                                                   NaN   \n",
       "rank_test_score                                                    3   \n",
       "\n",
       "                                                                   3  \\\n",
       "mean_fit_time                                                10.1961   \n",
       "std_fit_time                                              0.00314295   \n",
       "mean_score_time                                                    0   \n",
       "std_score_time                                                     0   \n",
       "param_units                                                       64   \n",
       "param_optimizer                                                 adam   \n",
       "param_epochs                                                      25   \n",
       "param_batch_size                                                  64   \n",
       "param_activation                                                relu   \n",
       "params             {'units': 64, 'optimizer': 'adam', 'epochs': 2...   \n",
       "split0_test_score                                                NaN   \n",
       "split1_test_score                                                NaN   \n",
       "mean_test_score                                                  NaN   \n",
       "std_test_score                                                   NaN   \n",
       "rank_test_score                                                    4   \n",
       "\n",
       "                                                                   4  \n",
       "mean_fit_time                                                 10.196  \n",
       "std_fit_time                                              0.00346446  \n",
       "mean_score_time                                                    0  \n",
       "std_score_time                                                     0  \n",
       "param_units                                                       64  \n",
       "param_optimizer                                              adagrad  \n",
       "param_epochs                                                      10  \n",
       "param_batch_size                                                  64  \n",
       "param_activation                                                relu  \n",
       "params             {'units': 64, 'optimizer': 'adagrad', 'epochs'...  \n",
       "split0_test_score                                                NaN  \n",
       "split1_test_score                                                NaN  \n",
       "mean_test_score                                                  NaN  \n",
       "std_test_score                                                   NaN  \n",
       "rank_test_score                                                    5  "
      ]
     },
     "execution_count": 38,
     "metadata": {},
     "output_type": "execute_result"
    }
   ],
   "source": [
    "rs = pd.DataFrame(rscv_result.cv_results_).sort_values(by='rank_test_score').head()\n",
    "rs.T"
   ]
  },
  {
   "cell_type": "code",
   "execution_count": 39,
   "metadata": {
    "id": "zbXJhDUOLuYW"
   },
   "outputs": [
    {
     "name": "stdout",
     "output_type": "stream",
     "text": [
      "Best: nan using {'units': 160, 'optimizer': 'rmsprop', 'epochs': 20, 'batch_size': 64, 'activation': 'relu'}\n"
     ]
    }
   ],
   "source": [
    "print(f\"Best: {rscv_result.best_score_} using {rscv_result.best_params_}\")"
   ]
  },
  {
   "cell_type": "code",
   "execution_count": 46,
   "metadata": {},
   "outputs": [
    {
     "name": "stdout",
     "output_type": "stream",
     "text": [
      "Epoch 1/20\n",
      "1936/1937 [============================>.] - ETA: 0s - loss: 0.2763 - accuracy: 0.8754\n",
      "Epoch 1: val_accuracy improved from -inf to 0.88862, saving model to /home/isds/이민구/doc/fifa_comment/data/best_lstm_model_fifa2.h5\n",
      "1937/1937 [==============================] - 59s 30ms/step - loss: 0.2763 - accuracy: 0.8754 - val_loss: 0.2481 - val_accuracy: 0.8886\n",
      "Epoch 2/20\n",
      "1937/1937 [==============================] - ETA: 0s - loss: 0.2311 - accuracy: 0.8971\n",
      "Epoch 2: val_accuracy improved from 0.88862 to 0.89136, saving model to /home/isds/이민구/doc/fifa_comment/data/best_lstm_model_fifa2.h5\n",
      "1937/1937 [==============================] - 57s 29ms/step - loss: 0.2311 - accuracy: 0.8971 - val_loss: 0.2378 - val_accuracy: 0.8914\n",
      "Epoch 3/20\n",
      "1936/1937 [============================>.] - ETA: 0s - loss: 0.2125 - accuracy: 0.9072\n",
      "Epoch 3: val_accuracy did not improve from 0.89136\n",
      "1937/1937 [==============================] - 57s 29ms/step - loss: 0.2125 - accuracy: 0.9072 - val_loss: 0.2484 - val_accuracy: 0.8890\n",
      "Epoch 4/20\n",
      "1936/1937 [============================>.] - ETA: 0s - loss: 0.1981 - accuracy: 0.9159\n",
      "Epoch 4: val_accuracy did not improve from 0.89136\n",
      "1937/1937 [==============================] - 57s 29ms/step - loss: 0.1981 - accuracy: 0.9159 - val_loss: 0.2542 - val_accuracy: 0.8862\n",
      "Epoch 5/20\n",
      "1936/1937 [============================>.] - ETA: 0s - loss: 0.1871 - accuracy: 0.9215\n",
      "Epoch 5: val_accuracy did not improve from 0.89136\n",
      "1937/1937 [==============================] - 57s 29ms/step - loss: 0.1871 - accuracy: 0.9215 - val_loss: 0.2601 - val_accuracy: 0.8851\n",
      "Epoch 6/20\n",
      "1936/1937 [============================>.] - ETA: 0s - loss: 0.1773 - accuracy: 0.9257\n",
      "Epoch 6: val_accuracy did not improve from 0.89136\n",
      "1937/1937 [==============================] - 57s 29ms/step - loss: 0.1773 - accuracy: 0.9257 - val_loss: 0.2687 - val_accuracy: 0.8843\n",
      "Epoch 7/20\n",
      "1935/1937 [============================>.] - ETA: 0s - loss: 0.1707 - accuracy: 0.9291\n",
      "Epoch 7: val_accuracy did not improve from 0.89136\n",
      "1937/1937 [==============================] - 57s 29ms/step - loss: 0.1706 - accuracy: 0.9291 - val_loss: 0.2920 - val_accuracy: 0.8808\n",
      "Epoch 7: early stopping\n"
     ]
    }
   ],
   "source": [
    "np.random.seed(42)\n",
    "tf.random.set_seed(42)\n",
    "\n",
    "units = rscv_result.best_params_.get('units')\n",
    "optimizer = rscv_result.best_params_.get('optimizer')\n",
    "batch_size = rscv_result.best_params_.get('batch_size')\n",
    "activation = rscv_result.best_params_.get('activation')\n",
    "epochs = rscv_result.best_params_.get('epochs')\n",
    "\n",
    "best_model = make_model_rscv2(units = units, activation = activation,optimizer = optimizer)\n",
    "\n",
    "es = EarlyStopping(monitor='val_loss', mode='min', verbose=1, patience=5)\n",
    "mc = ModelCheckpoint(f'{DATA_PATH}best_lstm_model_fifa2.h5', monitor='val_accuracy', mode='max', verbose=1, save_best_only=True)\n",
    "\n",
    "with tf.device('/GPU:0'):\n",
    "    history = best_model.fit(X_train_padded, y_train, epochs = epochs, batch_size = batch_size, callbacks = [es,mc], \n",
    "                             validation_split=0.2)"
   ]
  },
  {
   "cell_type": "code",
   "execution_count": 47,
   "metadata": {
    "id": "vaeWxgeBDZ93"
   },
   "outputs": [],
   "source": [
    "loaded_model = load_model(f'{DATA_PATH}best_lstm_model_fifa2.h5')\n",
    "#print(\"\\n 학습 정확도: %.4f\" % (loaded_model.evaluate(X_train_padded, y_train)[1]))"
   ]
  },
  {
   "cell_type": "code",
   "execution_count": 48,
   "metadata": {
    "colab": {
     "base_uri": "https://localhost:8080/"
    },
    "id": "VYRPMuNfDixe",
    "outputId": "a39170df-1301-49ed-be5a-78935a4aca5f"
   },
   "outputs": [
    {
     "name": "stdout",
     "output_type": "stream",
     "text": [
      "1215/1215 [==============================] - 14s 12ms/step - loss: 0.2374 - accuracy: 0.8938\n",
      "\n",
      " 테스트 정확도: 0.8938\n"
     ]
    }
   ],
   "source": [
    "# Basic 모델의 성능인 0.88에서 0.89로 성능이 향상된 것을 확인할 수 있다.\n",
    "print(\"\\n 테스트 정확도: %.4f\" % (loaded_model.evaluate(X_test_padded, y_test)[1]))"
   ]
  },
  {
   "cell_type": "markdown",
   "metadata": {},
   "source": [
    "## Grid Search CV\n",
    "Randomized Search CV에서 찾은 범위를 참고해서 세부적으로 튜닝해보자."
   ]
  },
  {
   "cell_type": "code",
   "execution_count": 30,
   "metadata": {},
   "outputs": [
    {
     "name": "stderr",
     "output_type": "stream",
     "text": [
      "<ipython-input-30-8f6d4b40239d>:10: DeprecationWarning: KerasClassifier is deprecated, use Sci-Keras (https://github.com/adriangb/scikeras) instead. See https://www.adriangb.com/scikeras/stable/migration.html for help migrating.\n",
      "  model_grid = KerasClassifier(build_fn=make_model_rscv2, verbose=0, callbacks = [es])\n"
     ]
    }
   ],
   "source": [
    "units = [64,128,256]\n",
    "epochs = [20]\n",
    "batch_size = [128,256] # GPU 메모리가 부족하면, batch size를 늘리자.\n",
    "activation = ['relu', 'sigmoid']\n",
    "optimizer = ['rmsprop', 'adam']\n",
    "\n",
    "param_grid = dict(batch_size = batch_size, units = units, activation = activation, optimizer = optimizer, epochs = epochs)\n",
    "es = EarlyStopping(monitor='loss', mode='min', verbose=1, patience=3)\n",
    "\n",
    "model_grid = KerasClassifier(build_fn=make_model_rscv2, verbose=0, callbacks = [es])"
   ]
  },
  {
   "cell_type": "code",
   "execution_count": 31,
   "metadata": {
    "colab": {
     "base_uri": "https://localhost:8080/"
    },
    "id": "xJPrrD8cR9aI",
    "outputId": "1f36dcdb-772e-4d7c-95bd-339cc4141d4d"
   },
   "outputs": [
    {
     "name": "stdout",
     "output_type": "stream",
     "text": [
      "Fitting 5 folds for each of 24 candidates, totalling 120 fits\n"
     ]
    },
    {
     "name": "stderr",
     "output_type": "stream",
     "text": [
      "[Parallel(n_jobs=2)]: Using backend LokyBackend with 2 concurrent workers.\n",
      "[Parallel(n_jobs=2)]: Done  46 tasks      | elapsed:  3.9min\n",
      "[Parallel(n_jobs=2)]: Done 120 out of 120 | elapsed: 10.2min finished\n"
     ]
    },
    {
     "name": "stdout",
     "output_type": "stream",
     "text": [
      "20.23527177174886\n"
     ]
    }
   ],
   "source": [
    "np.random.seed(42)\n",
    "tf.random.set_seed(42)\n",
    "\n",
    "start = time.time()\n",
    "with tf.device('/GPU:0'):\n",
    "    grid = GridSearchCV(\n",
    "        estimator=model_grid,\n",
    "        param_grid=param_grid,\n",
    "        cv=5,\n",
    "        scoring='accuracy',\n",
    "        verbose=1,\n",
    "        n_jobs=2)\n",
    "\n",
    "    grid_result = grid.fit(X_train_padded, y_train)\n",
    "\n",
    "print((time.time() - start)/60)"
   ]
  },
  {
   "cell_type": "code",
   "execution_count": 32,
   "metadata": {},
   "outputs": [
    {
     "data": {
      "text/html": [
       "<div>\n",
       "<style scoped>\n",
       "    .dataframe tbody tr th:only-of-type {\n",
       "        vertical-align: middle;\n",
       "    }\n",
       "\n",
       "    .dataframe tbody tr th {\n",
       "        vertical-align: top;\n",
       "    }\n",
       "\n",
       "    .dataframe thead th {\n",
       "        text-align: right;\n",
       "    }\n",
       "</style>\n",
       "<table border=\"1\" class=\"dataframe\">\n",
       "  <thead>\n",
       "    <tr style=\"text-align: right;\">\n",
       "      <th></th>\n",
       "      <th>0</th>\n",
       "      <th>21</th>\n",
       "      <th>20</th>\n",
       "      <th>19</th>\n",
       "      <th>18</th>\n",
       "    </tr>\n",
       "  </thead>\n",
       "  <tbody>\n",
       "    <tr>\n",
       "      <th>mean_fit_time</th>\n",
       "      <td>10.205</td>\n",
       "      <td>10.2154</td>\n",
       "      <td>10.216</td>\n",
       "      <td>10.2156</td>\n",
       "      <td>10.2151</td>\n",
       "    </tr>\n",
       "    <tr>\n",
       "      <th>std_fit_time</th>\n",
       "      <td>0.00647421</td>\n",
       "      <td>0.00171753</td>\n",
       "      <td>0.00263875</td>\n",
       "      <td>0.000840377</td>\n",
       "      <td>0.000784189</td>\n",
       "    </tr>\n",
       "    <tr>\n",
       "      <th>mean_score_time</th>\n",
       "      <td>0</td>\n",
       "      <td>0</td>\n",
       "      <td>0</td>\n",
       "      <td>0</td>\n",
       "      <td>0</td>\n",
       "    </tr>\n",
       "    <tr>\n",
       "      <th>std_score_time</th>\n",
       "      <td>0</td>\n",
       "      <td>0</td>\n",
       "      <td>0</td>\n",
       "      <td>0</td>\n",
       "      <td>0</td>\n",
       "    </tr>\n",
       "    <tr>\n",
       "      <th>param_activation</th>\n",
       "      <td>relu</td>\n",
       "      <td>sigmoid</td>\n",
       "      <td>sigmoid</td>\n",
       "      <td>sigmoid</td>\n",
       "      <td>sigmoid</td>\n",
       "    </tr>\n",
       "    <tr>\n",
       "      <th>param_batch_size</th>\n",
       "      <td>128</td>\n",
       "      <td>256</td>\n",
       "      <td>256</td>\n",
       "      <td>256</td>\n",
       "      <td>256</td>\n",
       "    </tr>\n",
       "    <tr>\n",
       "      <th>param_epochs</th>\n",
       "      <td>20</td>\n",
       "      <td>20</td>\n",
       "      <td>20</td>\n",
       "      <td>20</td>\n",
       "      <td>20</td>\n",
       "    </tr>\n",
       "    <tr>\n",
       "      <th>param_optimizer</th>\n",
       "      <td>rmsprop</td>\n",
       "      <td>adam</td>\n",
       "      <td>rmsprop</td>\n",
       "      <td>rmsprop</td>\n",
       "      <td>rmsprop</td>\n",
       "    </tr>\n",
       "    <tr>\n",
       "      <th>param_units</th>\n",
       "      <td>64</td>\n",
       "      <td>64</td>\n",
       "      <td>256</td>\n",
       "      <td>128</td>\n",
       "      <td>64</td>\n",
       "    </tr>\n",
       "    <tr>\n",
       "      <th>params</th>\n",
       "      <td>{'activation': 'relu', 'batch_size': 128, 'epo...</td>\n",
       "      <td>{'activation': 'sigmoid', 'batch_size': 256, '...</td>\n",
       "      <td>{'activation': 'sigmoid', 'batch_size': 256, '...</td>\n",
       "      <td>{'activation': 'sigmoid', 'batch_size': 256, '...</td>\n",
       "      <td>{'activation': 'sigmoid', 'batch_size': 256, '...</td>\n",
       "    </tr>\n",
       "    <tr>\n",
       "      <th>split0_test_score</th>\n",
       "      <td>NaN</td>\n",
       "      <td>NaN</td>\n",
       "      <td>NaN</td>\n",
       "      <td>NaN</td>\n",
       "      <td>NaN</td>\n",
       "    </tr>\n",
       "    <tr>\n",
       "      <th>split1_test_score</th>\n",
       "      <td>NaN</td>\n",
       "      <td>NaN</td>\n",
       "      <td>NaN</td>\n",
       "      <td>NaN</td>\n",
       "      <td>NaN</td>\n",
       "    </tr>\n",
       "    <tr>\n",
       "      <th>split2_test_score</th>\n",
       "      <td>NaN</td>\n",
       "      <td>NaN</td>\n",
       "      <td>NaN</td>\n",
       "      <td>NaN</td>\n",
       "      <td>NaN</td>\n",
       "    </tr>\n",
       "    <tr>\n",
       "      <th>split3_test_score</th>\n",
       "      <td>NaN</td>\n",
       "      <td>NaN</td>\n",
       "      <td>NaN</td>\n",
       "      <td>NaN</td>\n",
       "      <td>NaN</td>\n",
       "    </tr>\n",
       "    <tr>\n",
       "      <th>split4_test_score</th>\n",
       "      <td>NaN</td>\n",
       "      <td>NaN</td>\n",
       "      <td>NaN</td>\n",
       "      <td>NaN</td>\n",
       "      <td>NaN</td>\n",
       "    </tr>\n",
       "    <tr>\n",
       "      <th>mean_test_score</th>\n",
       "      <td>NaN</td>\n",
       "      <td>NaN</td>\n",
       "      <td>NaN</td>\n",
       "      <td>NaN</td>\n",
       "      <td>NaN</td>\n",
       "    </tr>\n",
       "    <tr>\n",
       "      <th>std_test_score</th>\n",
       "      <td>NaN</td>\n",
       "      <td>NaN</td>\n",
       "      <td>NaN</td>\n",
       "      <td>NaN</td>\n",
       "      <td>NaN</td>\n",
       "    </tr>\n",
       "    <tr>\n",
       "      <th>rank_test_score</th>\n",
       "      <td>1</td>\n",
       "      <td>2</td>\n",
       "      <td>3</td>\n",
       "      <td>4</td>\n",
       "      <td>5</td>\n",
       "    </tr>\n",
       "  </tbody>\n",
       "</table>\n",
       "</div>"
      ],
      "text/plain": [
       "                                                                  0   \\\n",
       "mean_fit_time                                                 10.205   \n",
       "std_fit_time                                              0.00647421   \n",
       "mean_score_time                                                    0   \n",
       "std_score_time                                                     0   \n",
       "param_activation                                                relu   \n",
       "param_batch_size                                                 128   \n",
       "param_epochs                                                      20   \n",
       "param_optimizer                                              rmsprop   \n",
       "param_units                                                       64   \n",
       "params             {'activation': 'relu', 'batch_size': 128, 'epo...   \n",
       "split0_test_score                                                NaN   \n",
       "split1_test_score                                                NaN   \n",
       "split2_test_score                                                NaN   \n",
       "split3_test_score                                                NaN   \n",
       "split4_test_score                                                NaN   \n",
       "mean_test_score                                                  NaN   \n",
       "std_test_score                                                   NaN   \n",
       "rank_test_score                                                    1   \n",
       "\n",
       "                                                                  21  \\\n",
       "mean_fit_time                                                10.2154   \n",
       "std_fit_time                                              0.00171753   \n",
       "mean_score_time                                                    0   \n",
       "std_score_time                                                     0   \n",
       "param_activation                                             sigmoid   \n",
       "param_batch_size                                                 256   \n",
       "param_epochs                                                      20   \n",
       "param_optimizer                                                 adam   \n",
       "param_units                                                       64   \n",
       "params             {'activation': 'sigmoid', 'batch_size': 256, '...   \n",
       "split0_test_score                                                NaN   \n",
       "split1_test_score                                                NaN   \n",
       "split2_test_score                                                NaN   \n",
       "split3_test_score                                                NaN   \n",
       "split4_test_score                                                NaN   \n",
       "mean_test_score                                                  NaN   \n",
       "std_test_score                                                   NaN   \n",
       "rank_test_score                                                    2   \n",
       "\n",
       "                                                                  20  \\\n",
       "mean_fit_time                                                 10.216   \n",
       "std_fit_time                                              0.00263875   \n",
       "mean_score_time                                                    0   \n",
       "std_score_time                                                     0   \n",
       "param_activation                                             sigmoid   \n",
       "param_batch_size                                                 256   \n",
       "param_epochs                                                      20   \n",
       "param_optimizer                                              rmsprop   \n",
       "param_units                                                      256   \n",
       "params             {'activation': 'sigmoid', 'batch_size': 256, '...   \n",
       "split0_test_score                                                NaN   \n",
       "split1_test_score                                                NaN   \n",
       "split2_test_score                                                NaN   \n",
       "split3_test_score                                                NaN   \n",
       "split4_test_score                                                NaN   \n",
       "mean_test_score                                                  NaN   \n",
       "std_test_score                                                   NaN   \n",
       "rank_test_score                                                    3   \n",
       "\n",
       "                                                                  19  \\\n",
       "mean_fit_time                                                10.2156   \n",
       "std_fit_time                                             0.000840377   \n",
       "mean_score_time                                                    0   \n",
       "std_score_time                                                     0   \n",
       "param_activation                                             sigmoid   \n",
       "param_batch_size                                                 256   \n",
       "param_epochs                                                      20   \n",
       "param_optimizer                                              rmsprop   \n",
       "param_units                                                      128   \n",
       "params             {'activation': 'sigmoid', 'batch_size': 256, '...   \n",
       "split0_test_score                                                NaN   \n",
       "split1_test_score                                                NaN   \n",
       "split2_test_score                                                NaN   \n",
       "split3_test_score                                                NaN   \n",
       "split4_test_score                                                NaN   \n",
       "mean_test_score                                                  NaN   \n",
       "std_test_score                                                   NaN   \n",
       "rank_test_score                                                    4   \n",
       "\n",
       "                                                                  18  \n",
       "mean_fit_time                                                10.2151  \n",
       "std_fit_time                                             0.000784189  \n",
       "mean_score_time                                                    0  \n",
       "std_score_time                                                     0  \n",
       "param_activation                                             sigmoid  \n",
       "param_batch_size                                                 256  \n",
       "param_epochs                                                      20  \n",
       "param_optimizer                                              rmsprop  \n",
       "param_units                                                       64  \n",
       "params             {'activation': 'sigmoid', 'batch_size': 256, '...  \n",
       "split0_test_score                                                NaN  \n",
       "split1_test_score                                                NaN  \n",
       "split2_test_score                                                NaN  \n",
       "split3_test_score                                                NaN  \n",
       "split4_test_score                                                NaN  \n",
       "mean_test_score                                                  NaN  \n",
       "std_test_score                                                   NaN  \n",
       "rank_test_score                                                    5  "
      ]
     },
     "execution_count": 32,
     "metadata": {},
     "output_type": "execute_result"
    }
   ],
   "source": [
    "grid_data = pd.DataFrame(grid_result.cv_results_).sort_values(by='rank_test_score').head()\n",
    "grid_data.T"
   ]
  },
  {
   "cell_type": "code",
   "execution_count": 33,
   "metadata": {},
   "outputs": [
    {
     "name": "stdout",
     "output_type": "stream",
     "text": [
      "Best: nan using {'activation': 'relu', 'batch_size': 128, 'epochs': 20, 'optimizer': 'rmsprop', 'units': 64}\n"
     ]
    }
   ],
   "source": [
    "print(f\"Best: {grid_result.best_score_} using {grid_result.best_params_}\")"
   ]
  },
  {
   "cell_type": "code",
   "execution_count": 38,
   "metadata": {},
   "outputs": [
    {
     "name": "stdout",
     "output_type": "stream",
     "text": [
      "Epoch 1/20\n",
      "969/969 [==============================] - ETA: 0s - loss: 0.2784 - accuracy: 0.8721\n",
      "Epoch 1: val_accuracy improved from -inf to 0.89162, saving model to /home/isds/이민구/doc/fifa_comment/data/best_lstm_model_fifa3.h5\n",
      "969/969 [==============================] - 31s 31ms/step - loss: 0.2784 - accuracy: 0.8721 - val_loss: 0.2431 - val_accuracy: 0.8916\n",
      "Epoch 2/20\n",
      "968/969 [============================>.] - ETA: 0s - loss: 0.2227 - accuracy: 0.8994\n",
      "Epoch 2: val_accuracy improved from 0.89162 to 0.89313, saving model to /home/isds/이민구/doc/fifa_comment/data/best_lstm_model_fifa3.h5\n",
      "969/969 [==============================] - 30s 31ms/step - loss: 0.2227 - accuracy: 0.8994 - val_loss: 0.2369 - val_accuracy: 0.8931\n",
      "Epoch 3/20\n",
      "969/969 [==============================] - ETA: 0s - loss: 0.1991 - accuracy: 0.9122\n",
      "Epoch 3: val_accuracy did not improve from 0.89313\n",
      "969/969 [==============================] - 30s 31ms/step - loss: 0.1991 - accuracy: 0.9122 - val_loss: 0.2445 - val_accuracy: 0.8864\n",
      "Epoch 4/20\n",
      "969/969 [==============================] - ETA: 0s - loss: 0.1766 - accuracy: 0.9249\n",
      "Epoch 4: val_accuracy did not improve from 0.89313\n",
      "969/969 [==============================] - 30s 31ms/step - loss: 0.1766 - accuracy: 0.9249 - val_loss: 0.2550 - val_accuracy: 0.8841\n",
      "Epoch 5/20\n",
      "969/969 [==============================] - ETA: 0s - loss: 0.1540 - accuracy: 0.9359\n",
      "Epoch 5: val_accuracy did not improve from 0.89313\n",
      "969/969 [==============================] - 30s 31ms/step - loss: 0.1540 - accuracy: 0.9359 - val_loss: 0.2727 - val_accuracy: 0.8839\n",
      "Epoch 6/20\n",
      "968/969 [============================>.] - ETA: 0s - loss: 0.1350 - accuracy: 0.9446\n",
      "Epoch 6: val_accuracy did not improve from 0.89313\n",
      "969/969 [==============================] - 30s 31ms/step - loss: 0.1350 - accuracy: 0.9446 - val_loss: 0.2933 - val_accuracy: 0.8781\n",
      "Epoch 7/20\n",
      "969/969 [==============================] - ETA: 0s - loss: 0.1169 - accuracy: 0.9529\n",
      "Epoch 7: val_accuracy did not improve from 0.89313\n",
      "969/969 [==============================] - 30s 31ms/step - loss: 0.1169 - accuracy: 0.9529 - val_loss: 0.3404 - val_accuracy: 0.8762\n",
      "Epoch 7: early stopping\n"
     ]
    }
   ],
   "source": [
    "np.random.seed(42)\n",
    "tf.random.set_seed(42)\n",
    "\n",
    "units = grid_result.best_params_.get('units')\n",
    "optimizer = grid_result.best_params_.get('optimizer')\n",
    "batch_size = grid_result.best_params_.get('batch_size')\n",
    "activation = grid_result.best_params_.get('activation')\n",
    "epochs = grid_result.best_params_.get('epochs')\n",
    "\n",
    "best_model2 = make_model_rscv2(units = units, activation = activation,optimizer = optimizer)\n",
    "\n",
    "es = EarlyStopping(monitor='val_loss', mode='min', verbose=1, patience=5)\n",
    "mc = ModelCheckpoint(f'{DATA_PATH}best_lstm_model_fifa3.h5', monitor='val_accuracy', mode='max', verbose=1, save_best_only=True)\n",
    "\n",
    "with tf.device('/GPU:0'):\n",
    "    history = best_model2.fit(X_train_padded, y_train, epochs = epochs, batch_size = batch_size, callbacks = [es,mc], \n",
    "                             validation_split=0.2)"
   ]
  },
  {
   "cell_type": "code",
   "execution_count": 39,
   "metadata": {},
   "outputs": [
    {
     "name": "stdout",
     "output_type": "stream",
     "text": [
      "1215/1215 [==============================] - 14s 12ms/step - loss: 0.2325 - accuracy: 0.8954\n",
      "\n",
      " 테스트 정확도: 0.8954\n"
     ]
    }
   ],
   "source": [
    "loaded_model2 = load_model(f'{DATA_PATH}best_lstm_model_fifa3.h5')\n",
    "print(\"\\n 테스트 정확도: %.4f\" % (loaded_model2.evaluate(X_test_padded, y_test)[1]))"
   ]
  }
 ],
 "metadata": {
  "accelerator": "GPU",
  "colab": {
   "collapsed_sections": [],
   "name": "LSTM_Modeling2.ipynb",
   "provenance": []
  },
  "kernelspec": {
   "display_name": "Python 3.8.5 32-bit",
   "language": "python",
   "name": "python3"
  },
  "language_info": {
   "codemirror_mode": {
    "name": "ipython",
    "version": 3
   },
   "file_extension": ".py",
   "mimetype": "text/x-python",
   "name": "python",
   "nbconvert_exporter": "python",
   "pygments_lexer": "ipython3",
   "version": "3.8.5"
  },
  "vscode": {
   "interpreter": {
    "hash": "8c9a6d0b832d4cfad6488ccdb1205552965f621d05815b5a62faeee9a758575a"
   }
  }
 },
 "nbformat": 4,
 "nbformat_minor": 1
}
