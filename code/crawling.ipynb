{
 "cells": [
  {
   "cell_type": "markdown",
   "metadata": {},
   "source": [
    "# 크롤링 코드\n",
    "피파인벤 홈페이지에서 포지션별로 유저 아아디, 선수이름, 댓글, 평점 데이터를 크롤링했다. "
   ]
  },
  {
   "cell_type": "code",
   "execution_count": 1,
   "metadata": {},
   "outputs": [],
   "source": [
    "import pandas as pd\n",
    "import numpy as np\n",
    "import requests\n",
    "from requests.exceptions import HTTPError\n",
    "from bs4 import BeautifulSoup"
   ]
  },
  {
   "cell_type": "code",
   "execution_count": 21,
   "metadata": {},
   "outputs": [],
   "source": [
    "DATA_PATH = '.....'"
   ]
  },
  {
   "cell_type": "code",
   "execution_count": 33,
   "metadata": {},
   "outputs": [
    {
     "data": {
      "text/html": [
       "<div>\n",
       "<style scoped>\n",
       "    .dataframe tbody tr th:only-of-type {\n",
       "        vertical-align: middle;\n",
       "    }\n",
       "\n",
       "    .dataframe tbody tr th {\n",
       "        vertical-align: top;\n",
       "    }\n",
       "\n",
       "    .dataframe thead th {\n",
       "        text-align: right;\n",
       "    }\n",
       "</style>\n",
       "<table border=\"1\" class=\"dataframe\">\n",
       "  <thead>\n",
       "    <tr style=\"text-align: right;\">\n",
       "      <th></th>\n",
       "      <th>userId</th>\n",
       "      <th>player_name</th>\n",
       "      <th>position</th>\n",
       "      <th>comment</th>\n",
       "      <th>rating</th>\n",
       "    </tr>\n",
       "  </thead>\n",
       "  <tbody>\n",
       "  </tbody>\n",
       "</table>\n",
       "</div>"
      ],
      "text/plain": [
       "Empty DataFrame\n",
       "Columns: [userId, player_name, position, comment, rating]\n",
       "Index: []"
      ]
     },
     "execution_count": 33,
     "metadata": {},
     "output_type": "execute_result"
    }
   ],
   "source": [
    "#데이터를 저장하기 위한 빈 데이터 프레임 만들기\n",
    "df = pd.DataFrame(columns = ['userId', 'player_name', 'position', 'comment', 'rating'])\n",
    "df.head()"
   ]
  },
  {
   "cell_type": "code",
   "execution_count": 34,
   "metadata": {},
   "outputs": [],
   "source": [
    "# 페이지와 포지션을 입력하여 댓글, 선수 이름, 평점, 유저 아이디를 크롤링 하는 함수\n",
    "def crawling_func(pages, position):\n",
    "    global df\n",
    "    try:\n",
    "        while pages <= 3800:\n",
    "            url = f'https://fifaonline4.inven.co.kr/dataninfo/rate/index.php?pg={pages}&formation=' + position\n",
    "            req = requests.get(url)\n",
    "        \n",
    "            soup = BeautifulSoup(req.content, 'html.parser')\n",
    "            comment = soup.find_all(class_ = 'fifa4 comment')\n",
    "            player_name = soup.find_all(class_ = 'fifa4 name')\n",
    "            rating = soup.find_all(class_ = 'fifa4 rate')\n",
    "            user_name = soup.find_all(class_ = 'text_right')\n",
    "\n",
    "            for i in range(len(user_name)):\n",
    "                user_id = user_name[i].get_text().split()[0]\n",
    "                p_name =  player_name[i].get_text()\n",
    "                cm = comment[i].get_text()\n",
    "                r = rating[i].get_text()\n",
    "                df = pd.concat([df, pd.DataFrame([[user_id,p_name, position ,cm, r]], columns = df.columns)])\n",
    "                df.reset_index(inplace = True, drop = True)\n",
    "            pages += 1\n",
    "            if pages % 50 == 0:\n",
    "                print(pages) # 100 pages 마다 출력\n",
    "\n",
    "    except:\n",
    "        pass\n",
    "    df.to_csv(f'{DATA_PATH}fifa_comment_data_{position}.csv', index = False)\n",
    "    return df    "
   ]
  },
  {
   "cell_type": "code",
   "execution_count": null,
   "metadata": {},
   "outputs": [],
   "source": [
    "#공격수 포지션 크롤링\n",
    "fw_df = crawling_func(1,'fw')\n",
    "display(fw_df.head())\n",
    "print(fw_df.shape)\n"
   ]
  },
  {
   "cell_type": "code",
   "execution_count": 47,
   "metadata": {},
   "outputs": [
    {
     "name": "stdout",
     "output_type": "stream",
     "text": [
      "(74940, 5)\n"
     ]
    },
    {
     "data": {
      "text/html": [
       "<div>\n",
       "<style scoped>\n",
       "    .dataframe tbody tr th:only-of-type {\n",
       "        vertical-align: middle;\n",
       "    }\n",
       "\n",
       "    .dataframe tbody tr th {\n",
       "        vertical-align: top;\n",
       "    }\n",
       "\n",
       "    .dataframe thead th {\n",
       "        text-align: right;\n",
       "    }\n",
       "</style>\n",
       "<table border=\"1\" class=\"dataframe\">\n",
       "  <thead>\n",
       "    <tr style=\"text-align: right;\">\n",
       "      <th></th>\n",
       "      <th>userId</th>\n",
       "      <th>player_name</th>\n",
       "      <th>position</th>\n",
       "      <th>comment</th>\n",
       "      <th>rating</th>\n",
       "    </tr>\n",
       "  </thead>\n",
       "  <tbody>\n",
       "    <tr>\n",
       "      <th>74935</th>\n",
       "      <td>매찬세뭐임</td>\n",
       "      <td>네이마르 Jr.</td>\n",
       "      <td>fw</td>\n",
       "      <td>lh는 체감 쓰렉인데 체감이 같다니 뭔</td>\n",
       "      <td>4.13</td>\n",
       "    </tr>\n",
       "    <tr>\n",
       "      <th>74936</th>\n",
       "      <td>아재싸커</td>\n",
       "      <td>크리스티아누 호날두</td>\n",
       "      <td>fw</td>\n",
       "      <td>이거 5카 쓰느니 차라리 mc1카를 쓰셈 ㅋㅋ박스 안 슛= 맥두랑 주공두 비슷중거리...</td>\n",
       "      <td>3.92</td>\n",
       "    </tr>\n",
       "    <tr>\n",
       "      <th>74937</th>\n",
       "      <td>조세무리뉴</td>\n",
       "      <td>필리포 인자기</td>\n",
       "      <td>fw</td>\n",
       "      <td>너부터 인증하고 인증해달라고 하세요 가격값이 왜 세상에 없음? 그지라 비싼걸 써보지...</td>\n",
       "      <td>2.38</td>\n",
       "    </tr>\n",
       "    <tr>\n",
       "      <th>74938</th>\n",
       "      <td>명탐정피카42</td>\n",
       "      <td>데니스 베르캄프</td>\n",
       "      <td>fw</td>\n",
       "      <td>참고로 아이콘 가격과 벨캄 금카 가격이 차이가 안나요 그냥 벨캄 금카가 더이득!</td>\n",
       "      <td>4.38</td>\n",
       "    </tr>\n",
       "    <tr>\n",
       "      <th>74939</th>\n",
       "      <td>명탐정피카42</td>\n",
       "      <td>데니스 베르캄프</td>\n",
       "      <td>fw</td>\n",
       "      <td>TT 금카로 스트라이커에 투톱으로 쓰는중입니다. 벨캄 종결은 티티 금카인거같습니다....</td>\n",
       "      <td>4.38</td>\n",
       "    </tr>\n",
       "  </tbody>\n",
       "</table>\n",
       "</div>"
      ],
      "text/plain": [
       "        userId player_name position  \\\n",
       "74935    매찬세뭐임    네이마르 Jr.       fw   \n",
       "74936     아재싸커  크리스티아누 호날두       fw   \n",
       "74937    조세무리뉴     필리포 인자기       fw   \n",
       "74938  명탐정피카42    데니스 베르캄프       fw   \n",
       "74939  명탐정피카42    데니스 베르캄프       fw   \n",
       "\n",
       "                                                 comment  rating  \n",
       "74935                              lh는 체감 쓰렉인데 체감이 같다니 뭔    4.13  \n",
       "74936  이거 5카 쓰느니 차라리 mc1카를 쓰셈 ㅋㅋ박스 안 슛= 맥두랑 주공두 비슷중거리...    3.92  \n",
       "74937  너부터 인증하고 인증해달라고 하세요 가격값이 왜 세상에 없음? 그지라 비싼걸 써보지...    2.38  \n",
       "74938       참고로 아이콘 가격과 벨캄 금카 가격이 차이가 안나요 그냥 벨캄 금카가 더이득!    4.38  \n",
       "74939  TT 금카로 스트라이커에 투톱으로 쓰는중입니다. 벨캄 종결은 티티 금카인거같습니다....    4.38  "
      ]
     },
     "execution_count": 47,
     "metadata": {},
     "output_type": "execute_result"
    }
   ],
   "source": [
    "df_fw = pd.read_csv(f'{DATA_PATH}fifa_comment_data_fw.csv')\n",
    "print(df_fw.shape)\n",
    "df_fw.tail()"
   ]
  },
  {
   "cell_type": "code",
   "execution_count": 48,
   "metadata": {},
   "outputs": [
    {
     "name": "stdout",
     "output_type": "stream",
     "text": [
      "(78380, 5)\n"
     ]
    },
    {
     "data": {
      "text/html": [
       "<div>\n",
       "<style scoped>\n",
       "    .dataframe tbody tr th:only-of-type {\n",
       "        vertical-align: middle;\n",
       "    }\n",
       "\n",
       "    .dataframe tbody tr th {\n",
       "        vertical-align: top;\n",
       "    }\n",
       "\n",
       "    .dataframe thead th {\n",
       "        text-align: right;\n",
       "    }\n",
       "</style>\n",
       "<table border=\"1\" class=\"dataframe\">\n",
       "  <thead>\n",
       "    <tr style=\"text-align: right;\">\n",
       "      <th></th>\n",
       "      <th>userId</th>\n",
       "      <th>player_name</th>\n",
       "      <th>position</th>\n",
       "      <th>comment</th>\n",
       "      <th>rating</th>\n",
       "    </tr>\n",
       "  </thead>\n",
       "  <tbody>\n",
       "    <tr>\n",
       "      <th>78375</th>\n",
       "      <td>한잔해</td>\n",
       "      <td>로타어 마테우스</td>\n",
       "      <td>mf</td>\n",
       "      <td>ㅉ 지가 못써놓고 지랄을</td>\n",
       "      <td>4.76</td>\n",
       "    </tr>\n",
       "    <tr>\n",
       "      <th>78376</th>\n",
       "      <td>애광이</td>\n",
       "      <td>파울로 디발라</td>\n",
       "      <td>mf</td>\n",
       "      <td>븅시나 15억에 팔았는데 ㅋㅋㅋㅋㅋㅋㅋㅋㅋㅋㅋㅋ싸물고 꺼지고</td>\n",
       "      <td>4.77</td>\n",
       "    </tr>\n",
       "    <tr>\n",
       "      <th>78377</th>\n",
       "      <td>플루토</td>\n",
       "      <td>크리스티안 에릭센</td>\n",
       "      <td>mf</td>\n",
       "      <td>토트넘이면 노미쓰고 인테르라면 LH쓰셈</td>\n",
       "      <td>4.37</td>\n",
       "    </tr>\n",
       "    <tr>\n",
       "      <th>78378</th>\n",
       "      <td>가성비갑선수</td>\n",
       "      <td>손흥민</td>\n",
       "      <td>mf</td>\n",
       "      <td>얘가 안좋다고요 ?손가락아프신가 ;??;;</td>\n",
       "      <td>4.21</td>\n",
       "    </tr>\n",
       "    <tr>\n",
       "      <th>78379</th>\n",
       "      <td>김승현호</td>\n",
       "      <td>호나우지뉴</td>\n",
       "      <td>mf</td>\n",
       "      <td>5카 개 좋음 묵직하면서 빠르고 감차랑 패스 지림 프리킥 간지는 덤</td>\n",
       "      <td>3.69</td>\n",
       "    </tr>\n",
       "  </tbody>\n",
       "</table>\n",
       "</div>"
      ],
      "text/plain": [
       "       userId player_name position                                comment  \\\n",
       "78375     한잔해    로타어 마테우스       mf                          ㅉ 지가 못써놓고 지랄을   \n",
       "78376     애광이     파울로 디발라       mf      븅시나 15억에 팔았는데 ㅋㅋㅋㅋㅋㅋㅋㅋㅋㅋㅋㅋ싸물고 꺼지고   \n",
       "78377     플루토   크리스티안 에릭센       mf                  토트넘이면 노미쓰고 인테르라면 LH쓰셈   \n",
       "78378  가성비갑선수         손흥민       mf                얘가 안좋다고요 ?손가락아프신가 ;??;;   \n",
       "78379    김승현호       호나우지뉴       mf  5카 개 좋음 묵직하면서 빠르고 감차랑 패스 지림 프리킥 간지는 덤   \n",
       "\n",
       "       rating  \n",
       "78375    4.76  \n",
       "78376    4.77  \n",
       "78377    4.37  \n",
       "78378    4.21  \n",
       "78379    3.69  "
      ]
     },
     "execution_count": 48,
     "metadata": {},
     "output_type": "execute_result"
    }
   ],
   "source": [
    "#미드필더 포지션 크롤링\n",
    "mf_df = crawling_func(1,'mf')\n",
    "df_mf = pd.read_csv(f'{DATA_PATH}fifa_comment_data_mf.csv')\n",
    "print(df_mf.shape)\n",
    "df_mf.tail()"
   ]
  },
  {
   "cell_type": "code",
   "execution_count": 43,
   "metadata": {},
   "outputs": [
    {
     "name": "stdout",
     "output_type": "stream",
     "text": [
      "(74920, 5)\n"
     ]
    },
    {
     "data": {
      "text/html": [
       "<div>\n",
       "<style scoped>\n",
       "    .dataframe tbody tr th:only-of-type {\n",
       "        vertical-align: middle;\n",
       "    }\n",
       "\n",
       "    .dataframe tbody tr th {\n",
       "        vertical-align: top;\n",
       "    }\n",
       "\n",
       "    .dataframe thead th {\n",
       "        text-align: right;\n",
       "    }\n",
       "</style>\n",
       "<table border=\"1\" class=\"dataframe\">\n",
       "  <thead>\n",
       "    <tr style=\"text-align: right;\">\n",
       "      <th></th>\n",
       "      <th>userId</th>\n",
       "      <th>player_name</th>\n",
       "      <th>position</th>\n",
       "      <th>comment</th>\n",
       "      <th>rating</th>\n",
       "    </tr>\n",
       "  </thead>\n",
       "  <tbody>\n",
       "    <tr>\n",
       "      <th>0</th>\n",
       "      <td>단우홀</td>\n",
       "      <td>피카요 토모리</td>\n",
       "      <td>df</td>\n",
       "      <td>ebs 말디니 은카랑 얘 은카랑 같이 쓰는데 둘 다 속도가 빨라서 커서 잡고 수비좀...</td>\n",
       "      <td>3.90</td>\n",
       "    </tr>\n",
       "    <tr>\n",
       "      <th>1</th>\n",
       "      <td>강민경</td>\n",
       "      <td>피카요 토모리</td>\n",
       "      <td>df</td>\n",
       "      <td>은카 써봤고 지금 팔았음판 이유는 별거 아님성능은 좋음 진짜 만족그저 금카케미라서 ...</td>\n",
       "      <td>3.90</td>\n",
       "    </tr>\n",
       "    <tr>\n",
       "      <th>2</th>\n",
       "      <td>차니팬</td>\n",
       "      <td>뱅자맹 파바르</td>\n",
       "      <td>df</td>\n",
       "      <td>금카 삽니다 상한가에 올려놨어요 팔아주세여어어어</td>\n",
       "      <td>3.00</td>\n",
       "    </tr>\n",
       "    <tr>\n",
       "      <th>3</th>\n",
       "      <td>김재박</td>\n",
       "      <td>디에고 레예스</td>\n",
       "      <td>df</td>\n",
       "      <td>9카 팝니다 관심있으신 분 연락주세요</td>\n",
       "      <td>4.00</td>\n",
       "    </tr>\n",
       "    <tr>\n",
       "      <th>4</th>\n",
       "      <td>섹시몽주인</td>\n",
       "      <td>김광석</td>\n",
       "      <td>df</td>\n",
       "      <td>금카 후기같은 대한민국이라도 조금은 다르게?특별한 선수 쓰고싶어 찾다가 어렵게 28...</td>\n",
       "      <td>4.76</td>\n",
       "    </tr>\n",
       "  </tbody>\n",
       "</table>\n",
       "</div>"
      ],
      "text/plain": [
       "  userId player_name position  \\\n",
       "0    단우홀     피카요 토모리       df   \n",
       "1    강민경     피카요 토모리       df   \n",
       "2    차니팬     뱅자맹 파바르       df   \n",
       "3    김재박     디에고 레예스       df   \n",
       "4  섹시몽주인         김광석       df   \n",
       "\n",
       "                                             comment  rating  \n",
       "0  ebs 말디니 은카랑 얘 은카랑 같이 쓰는데 둘 다 속도가 빨라서 커서 잡고 수비좀...    3.90  \n",
       "1  은카 써봤고 지금 팔았음판 이유는 별거 아님성능은 좋음 진짜 만족그저 금카케미라서 ...    3.90  \n",
       "2                         금카 삽니다 상한가에 올려놨어요 팔아주세여어어어    3.00  \n",
       "3                               9카 팝니다 관심있으신 분 연락주세요    4.00  \n",
       "4  금카 후기같은 대한민국이라도 조금은 다르게?특별한 선수 쓰고싶어 찾다가 어렵게 28...    4.76  "
      ]
     },
     "execution_count": 43,
     "metadata": {},
     "output_type": "execute_result"
    }
   ],
   "source": [
    "#수비수 포지션 크롤링\n",
    "df_df = crawling_func(1,'df')\n",
    "df_df = pd.read_csv(f'{DATA_PATH}fifa_comment_data_df.csv')\n",
    "print(df_df.shape)\n",
    "df_df.head()"
   ]
  },
  {
   "cell_type": "code",
   "execution_count": 49,
   "metadata": {},
   "outputs": [
    {
     "name": "stdout",
     "output_type": "stream",
     "text": [
      "1867\n"
     ]
    },
    {
     "data": {
      "text/plain": [
       "(226373, 5)"
      ]
     },
     "execution_count": 49,
     "metadata": {},
     "output_type": "execute_result"
    }
   ],
   "source": [
    "# 공격수, 미드필더, 수비수 데이터 합치기\n",
    "df_all = pd.concat([df_fw,df_mf,df_df], axis = 0)\n",
    "print(df_all.duplicated().sum())\n",
    "df_all.drop_duplicates(inplace = True)\n",
    "df_all.reset_index(inplace = True, drop = True)\n",
    "df_all.shape"
   ]
  },
  {
   "cell_type": "code",
   "execution_count": 50,
   "metadata": {},
   "outputs": [
    {
     "name": "stdout",
     "output_type": "stream",
     "text": [
      "0\n",
      "userId         0\n",
      "player_name    0\n",
      "position       0\n",
      "comment        0\n",
      "rating         0\n",
      "dtype: int64\n"
     ]
    }
   ],
   "source": [
    "print(df_all.duplicated().sum())\n",
    "print(df_all.isnull().sum())"
   ]
  },
  {
   "cell_type": "code",
   "execution_count": 51,
   "metadata": {},
   "outputs": [
    {
     "data": {
      "text/html": [
       "<div>\n",
       "<style scoped>\n",
       "    .dataframe tbody tr th:only-of-type {\n",
       "        vertical-align: middle;\n",
       "    }\n",
       "\n",
       "    .dataframe tbody tr th {\n",
       "        vertical-align: top;\n",
       "    }\n",
       "\n",
       "    .dataframe thead th {\n",
       "        text-align: right;\n",
       "    }\n",
       "</style>\n",
       "<table border=\"1\" class=\"dataframe\">\n",
       "  <thead>\n",
       "    <tr style=\"text-align: right;\">\n",
       "      <th></th>\n",
       "      <th>userId</th>\n",
       "      <th>player_name</th>\n",
       "      <th>position</th>\n",
       "      <th>comment</th>\n",
       "      <th>rating</th>\n",
       "    </tr>\n",
       "  </thead>\n",
       "  <tbody>\n",
       "    <tr>\n",
       "      <th>226368</th>\n",
       "      <td>다음달월클</td>\n",
       "      <td>부바카르 카마라</td>\n",
       "      <td>df</td>\n",
       "      <td>금카 삽니다 mevius0226 카톡주세요</td>\n",
       "      <td>0.00</td>\n",
       "    </tr>\n",
       "    <tr>\n",
       "      <th>226369</th>\n",
       "      <td>박주완개새</td>\n",
       "      <td>제이펏 탕강가</td>\n",
       "      <td>df</td>\n",
       "      <td>금카@구합니다  카톡 as1010101</td>\n",
       "      <td>3.75</td>\n",
       "    </tr>\n",
       "    <tr>\n",
       "      <th>226370</th>\n",
       "      <td>레알의라장군</td>\n",
       "      <td>카르바할</td>\n",
       "      <td>df</td>\n",
       "      <td>좋기만한데....</td>\n",
       "      <td>4.04</td>\n",
       "    </tr>\n",
       "    <tr>\n",
       "      <th>226371</th>\n",
       "      <td>아디동서남북</td>\n",
       "      <td>나우두</td>\n",
       "      <td>df</td>\n",
       "      <td>ㅋㅋㅋㅋㅋㅋㅋㅋㅋㅋ</td>\n",
       "      <td>3.67</td>\n",
       "    </tr>\n",
       "    <tr>\n",
       "      <th>226372</th>\n",
       "      <td>자기엘카</td>\n",
       "      <td>조 고메스</td>\n",
       "      <td>df</td>\n",
       "      <td>단점 헤딩 실존이랑 똑같음</td>\n",
       "      <td>3.83</td>\n",
       "    </tr>\n",
       "  </tbody>\n",
       "</table>\n",
       "</div>"
      ],
      "text/plain": [
       "        userId player_name position                  comment  rating\n",
       "226368   다음달월클    부바카르 카마라       df  금카 삽니다 mevius0226 카톡주세요    0.00\n",
       "226369   박주완개새     제이펏 탕강가       df    금카@구합니다  카톡 as1010101    3.75\n",
       "226370  레알의라장군        카르바할       df                좋기만한데....    4.04\n",
       "226371  아디동서남북         나우두       df               ㅋㅋㅋㅋㅋㅋㅋㅋㅋㅋ    3.67\n",
       "226372    자기엘카       조 고메스       df           단점 헤딩 실존이랑 똑같음    3.83"
      ]
     },
     "execution_count": 51,
     "metadata": {},
     "output_type": "execute_result"
    }
   ],
   "source": [
    "df_all.tail()"
   ]
  },
  {
   "cell_type": "code",
   "execution_count": 52,
   "metadata": {},
   "outputs": [],
   "source": [
    "df_all.to_csv(f'{DATA_PATH}fifa_comment_data.csv', index = False)"
   ]
  }
 ],
 "metadata": {
  "interpreter": {
   "hash": "8c9a6d0b832d4cfad6488ccdb1205552965f621d05815b5a62faeee9a758575a"
  },
  "kernelspec": {
   "display_name": "Python 3.8.5 32-bit",
   "language": "python",
   "name": "python3"
  },
  "language_info": {
   "codemirror_mode": {
    "name": "ipython",
    "version": 3
   },
   "file_extension": ".py",
   "mimetype": "text/x-python",
   "name": "python",
   "nbconvert_exporter": "python",
   "pygments_lexer": "ipython3",
   "version": "3.8.5"
  },
  "orig_nbformat": 4
 },
 "nbformat": 4,
 "nbformat_minor": 2
}
